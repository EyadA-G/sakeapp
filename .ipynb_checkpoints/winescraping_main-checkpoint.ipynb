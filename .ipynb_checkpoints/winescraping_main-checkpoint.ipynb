{
 "cells": [
  {
   "cell_type": "code",
   "execution_count": 19,
   "metadata": {
    "ExecuteTime": {
     "end_time": "2022-02-16T11:36:02.858110Z",
     "start_time": "2022-02-16T11:36:02.827903Z"
    }
   },
   "outputs": [],
   "source": [
    "import pandas as pd\n",
    "import numpy as np\n",
    "import matplotlib.pyplot as plt\n",
    "import seaborn as sns\n",
    "from urllib.request import urlopen, Request\n",
    "from bs4 import BeautifulSoup\n",
    "import requests\n",
    "%matplotlib inline"
   ]
  },
  {
   "cell_type": "markdown",
   "metadata": {},
   "source": [
    "## Website 1"
   ]
  },
  {
   "cell_type": "code",
   "execution_count": 20,
   "metadata": {
    "ExecuteTime": {
     "end_time": "2022-02-16T11:36:05.199344Z",
     "start_time": "2022-02-16T11:36:05.176082Z"
    }
   },
   "outputs": [],
   "source": [
    "def get_links():\n",
    "    a=[]\n",
    "    wine_names = []\n",
    "    full_link = []\n",
    "    pages = 1\n",
    "    while pages != 36:\n",
    "        url = f'https://www.majestic.co.uk/wine?gclid=cjwkcaiav_kmbhazeiwas-rx1bite77dljzggwnhsjyynsaq5vmj1nx6dlu89bbwulmbnjeavuoyghocjnuqavd_bwe&specs=75660&pagenumber={pages}&paginationType=10'\n",
    "        hdr = {'User-Agent': 'Chrome'}\n",
    "        req = Request(url,headers=hdr)\n",
    "        page = urlopen(req)\n",
    "        wine_web = BeautifulSoup(page)\n",
    "        rows = wine_web.find_all('div', {'class': 'mb-4 product-item-container'}) \n",
    "        a.append(rows)\n",
    "        for item in rows:\n",
    "            try:\n",
    "                wine_names.append(item.find_all('a', {'class': 'product-name t-not-link'}))\n",
    "            except:\n",
    "                pass\n",
    "        productLinks = [div.a for div in \n",
    "                wine_web.findAll('div', {'class': 'product-box-product-info'})]\n",
    "        for link in productLinks:\n",
    "            full_link.append ('https://www.majestic.co.uk'+link['href'])\n",
    "\n",
    "        print(f'{pages} is done')\n",
    "        pages = pages + 1\n",
    "        print(f'{pages} is next')\n",
    "    items = pd.DataFrame({'Item': wine_names})\n",
    "    return full_link"
   ]
  },
  {
   "cell_type": "code",
   "execution_count": 21,
   "metadata": {
    "ExecuteTime": {
     "end_time": "2022-02-16T11:36:08.117999Z",
     "start_time": "2022-02-16T11:36:08.097524Z"
    }
   },
   "outputs": [],
   "source": [
    "def get_wine_values(full_link):\n",
    "    # driver = webdriver.Chrome(executable_path=r\"C:\\Users\\eyada\\Documents\\UNI-20\\Project\\chromedriver\\chromedriver.exe\")\n",
    "    # driver.get('https://www.majestic.co.uk/wine?gclid=cjwkcaiav_kmbhazeiwas-rx1bite77dljzggwnhsjyynsaq5vmj1nx6dlu89bbwulmbnjeavuoyghocjnuqavd_bwe&specs=75660')\n",
    "    # #  #remove pop ups from screen\n",
    "    # element = driver.find_element_by_xpath(\"\"\"//*[@id='onetrust-accept-btn-handler']\"\"\")\n",
    "    # element.click()\n",
    "    name = []\n",
    "    alcohol = []\n",
    "    character = []\n",
    "    wine_alcohol = []\n",
    "    count = 0\n",
    "    for link in full_link:\n",
    "        url = link\n",
    "        hdr = {'User-Agent': 'Chrome'}\n",
    "        req = Request(url,headers=hdr)\n",
    "        page = urlopen(req)\n",
    "        wine = BeautifulSoup(page)\n",
    "        try:\n",
    "            wine_name = wine.find('h1', {'class': 'product-info__name d-block-mobile'}).getText()\n",
    "            name.append(wine_name)\n",
    "            count += 1\n",
    "        except AttributeError as e:\n",
    "                    print(f'error: {e},  count: {count}')\n",
    "\n",
    "        for alcohol in wine.findAll('div', {'class': 'product-info__symbol-label'}):\n",
    "            wine_alcohol.append(alcohol.text)\n",
    "        c=0\n",
    "        for i in range(1,9):\n",
    "            try:\n",
    "                b = wine.find('div', class_='badge-' +str(i) +' badge-item').getText()\n",
    "                if b == str(i):\n",
    "                    wine_number = int(b)\n",
    "                    character.append(wine_number)  \n",
    "                else:\n",
    "                    pass \n",
    "            except AttributeError as e:\n",
    "                    character.append('none')\n",
    "                    \n",
    "    new = [wine_alcohol[i] for i in range(1, len(wine_alcohol), 3)]  \n",
    "    alcohol = [float(i.translate({ord(i): None for i in 'ABV'}).replace('%', '')) for i in new]\n",
    "    \n",
    "    return name, alcohol, character"
   ]
  },
  {
   "cell_type": "code",
   "execution_count": 22,
   "metadata": {
    "ExecuteTime": {
     "end_time": "2022-02-16T11:53:03.446616Z",
     "start_time": "2022-02-16T11:36:08.827227Z"
    }
   },
   "outputs": [
    {
     "name": "stdout",
     "output_type": "stream",
     "text": [
      "1 is done\n",
      "2 is next\n",
      "2 is done\n",
      "3 is next\n",
      "3 is done\n",
      "4 is next\n",
      "4 is done\n",
      "5 is next\n",
      "5 is done\n",
      "6 is next\n",
      "6 is done\n",
      "7 is next\n",
      "7 is done\n",
      "8 is next\n",
      "8 is done\n",
      "9 is next\n",
      "9 is done\n",
      "10 is next\n",
      "10 is done\n",
      "11 is next\n",
      "11 is done\n",
      "12 is next\n",
      "12 is done\n",
      "13 is next\n",
      "13 is done\n",
      "14 is next\n",
      "14 is done\n",
      "15 is next\n",
      "15 is done\n",
      "16 is next\n",
      "16 is done\n",
      "17 is next\n",
      "17 is done\n",
      "18 is next\n",
      "18 is done\n",
      "19 is next\n",
      "19 is done\n",
      "20 is next\n",
      "20 is done\n",
      "21 is next\n",
      "21 is done\n",
      "22 is next\n",
      "22 is done\n",
      "23 is next\n",
      "23 is done\n",
      "24 is next\n",
      "24 is done\n",
      "25 is next\n",
      "25 is done\n",
      "26 is next\n",
      "26 is done\n",
      "27 is next\n",
      "27 is done\n",
      "28 is next\n",
      "28 is done\n",
      "29 is next\n",
      "29 is done\n",
      "30 is next\n",
      "30 is done\n",
      "31 is next\n",
      "31 is done\n",
      "32 is next\n",
      "32 is done\n",
      "33 is next\n",
      "33 is done\n",
      "34 is next\n",
      "34 is done\n",
      "35 is next\n",
      "35 is done\n",
      "36 is next\n"
     ]
    }
   ],
   "source": [
    "name, alcohol, character = get_wine_values(get_links())"
   ]
  },
  {
   "cell_type": "code",
   "execution_count": 23,
   "metadata": {
    "ExecuteTime": {
     "end_time": "2022-02-16T11:55:13.504365Z",
     "start_time": "2022-02-16T11:55:13.488183Z"
    }
   },
   "outputs": [],
   "source": [
    "def set_to_dataframe(name, alcohol, character):\n",
    "    new_name = []\n",
    "    for i in name:\n",
    "        split_string = i.split(\",\", 1)\n",
    "        new_name.append(split_string[0])\n",
    "\n",
    "    list = [character[i:i+8] for i in range(0, len(character), 8)]\n",
    "    new_list = []\n",
    "    for i in range(len(list)):\n",
    "        if all(isinstance(item, str) for item in list[i]) == True:\n",
    "            new_list.append('none')\n",
    "        else:\n",
    "            for i in list[i]:\n",
    "                if isinstance(i, str) == False:\n",
    "                    new_list.append(i)\n",
    "    try:\n",
    "        website_one = pd.DataFrame(\n",
    "            {'name': new_name,\n",
    "             'alcohol': alcohol,\n",
    "             'character': new_list\n",
    "            })\n",
    "        return website_one\n",
    "    except ValueError as e:\n",
    "        print(len(new_list))\n",
    "        return(e)"
   ]
  },
  {
   "cell_type": "code",
   "execution_count": 24,
   "metadata": {
    "ExecuteTime": {
     "end_time": "2022-02-16T11:55:17.673399Z",
     "start_time": "2022-02-16T11:55:17.657631Z"
    }
   },
   "outputs": [],
   "source": [
    "website_one = set_to_dataframe(name, alcohol, character)"
   ]
  },
  {
   "cell_type": "code",
   "execution_count": 182,
   "metadata": {
    "ExecuteTime": {
     "end_time": "2022-02-16T12:53:27.542347Z",
     "start_time": "2022-02-16T12:53:27.509875Z"
    }
   },
   "outputs": [],
   "source": [
    "variety = [\n",
    "    'Riesling', \n",
    "    'Pinot Grigio', \n",
    "    'Sauvignon Blanc' ,\n",
    "    'Sancerre', \n",
    "    'Chardonnay', \n",
    "    'Mâcon-Villages', \n",
    "    'Pinot Noir', \n",
    "    'Cabernet Sauvignon', \n",
    "    'Gavi', \n",
    "    'Albariño', \n",
    "    'Verdejo', \n",
    "    'Pinot Gris', \n",
    "    'Tokaji', \n",
    "    'Vin Santo',\n",
    "    'Chenin Blanc',\n",
    "    'Malbec',\n",
    "    'Rioja',\n",
    "    'Muscat']\n",
    "l = []\n",
    "count = 0\n",
    "for x in website_one['name']:\n",
    "    for i in variety:\n",
    "        if i in x:\n",
    "            l.append(i)\n",
    "        else:\n",
    "            l.append(None)\n",
    "list = [l[i:i+18] for i in range(0, len(l), 18)]\n",
    "winetype_list = []\n",
    "for i in range(len(list)):\n",
    "    if all(v is None for v in list[i]) == True:\n",
    "        winetype_list.append(None)\n",
    "    else:\n",
    "        for i in list[i]:\n",
    "            if isinstance(i, str) == True:\n",
    "                winetype_list.append(i)  "
   ]
  },
  {
   "cell_type": "code",
   "execution_count": 183,
   "metadata": {
    "ExecuteTime": {
     "end_time": "2022-02-16T12:53:27.909790Z",
     "start_time": "2022-02-16T12:53:27.902378Z"
    }
   },
   "outputs": [],
   "source": [
    "website_one['class'] = winetype_list"
   ]
  },
  {
   "cell_type": "code",
   "execution_count": 184,
   "metadata": {
    "ExecuteTime": {
     "end_time": "2022-02-16T12:53:28.583118Z",
     "start_time": "2022-02-16T12:53:28.561398Z"
    }
   },
   "outputs": [
    {
     "data": {
      "text/html": [
       "<div>\n",
       "<style scoped>\n",
       "    .dataframe tbody tr th:only-of-type {\n",
       "        vertical-align: middle;\n",
       "    }\n",
       "\n",
       "    .dataframe tbody tr th {\n",
       "        vertical-align: top;\n",
       "    }\n",
       "\n",
       "    .dataframe thead th {\n",
       "        text-align: right;\n",
       "    }\n",
       "</style>\n",
       "<table border=\"1\" class=\"dataframe\">\n",
       "  <thead>\n",
       "    <tr style=\"text-align: right;\">\n",
       "      <th></th>\n",
       "      <th>name</th>\n",
       "      <th>alcohol</th>\n",
       "      <th>character</th>\n",
       "      <th>class</th>\n",
       "    </tr>\n",
       "  </thead>\n",
       "  <tbody>\n",
       "    <tr>\n",
       "      <th>0</th>\n",
       "      <td>The Ned 'Waihopai River' Sauvignon Blanc 2020/21</td>\n",
       "      <td>13.0</td>\n",
       "      <td>1</td>\n",
       "      <td>Sauvignon Blanc</td>\n",
       "    </tr>\n",
       "    <tr>\n",
       "      <th>1</th>\n",
       "      <td>La Toledana Gavi di Gavi DOCG 2019/20</td>\n",
       "      <td>13.0</td>\n",
       "      <td>1</td>\n",
       "      <td>Gavi</td>\n",
       "    </tr>\n",
       "    <tr>\n",
       "      <th>2</th>\n",
       "      <td>Saintsbury Chardonnay 2018</td>\n",
       "      <td>13.5</td>\n",
       "      <td>1</td>\n",
       "      <td>Chardonnay</td>\n",
       "    </tr>\n",
       "    <tr>\n",
       "      <th>3</th>\n",
       "      <td>Domaine Fouassier 'La Garenne' Sancerre 2019/20</td>\n",
       "      <td>13.5</td>\n",
       "      <td>2</td>\n",
       "      <td>Sancerre</td>\n",
       "    </tr>\n",
       "    <tr>\n",
       "      <th>4</th>\n",
       "      <td>Martín Códax Albariño 2020</td>\n",
       "      <td>13.0</td>\n",
       "      <td>1</td>\n",
       "      <td>Albariño</td>\n",
       "    </tr>\n",
       "    <tr>\n",
       "      <th>...</th>\n",
       "      <td>...</td>\n",
       "      <td>...</td>\n",
       "      <td>...</td>\n",
       "      <td>...</td>\n",
       "    </tr>\n",
       "    <tr>\n",
       "      <th>625</th>\n",
       "      <td>Bott Frigyes Furmint 2018</td>\n",
       "      <td>13.0</td>\n",
       "      <td>1</td>\n",
       "      <td>None</td>\n",
       "    </tr>\n",
       "    <tr>\n",
       "      <th>626</th>\n",
       "      <td>Casillero del Diablo Sauvignon Blanc 2019</td>\n",
       "      <td>13.0</td>\n",
       "      <td>1</td>\n",
       "      <td>Sauvignon Blanc</td>\n",
       "    </tr>\n",
       "    <tr>\n",
       "      <th>627</th>\n",
       "      <td>Jordan Barrel Fermented Chardonnay 2019</td>\n",
       "      <td>13.5</td>\n",
       "      <td>1</td>\n",
       "      <td>Chardonnay</td>\n",
       "    </tr>\n",
       "    <tr>\n",
       "      <th>628</th>\n",
       "      <td>Awatere River Single Vineyard Sauvignon Blanc ...</td>\n",
       "      <td>13.0</td>\n",
       "      <td>1</td>\n",
       "      <td>Sauvignon Blanc</td>\n",
       "    </tr>\n",
       "    <tr>\n",
       "      <th>629</th>\n",
       "      <td>Berton Vineyards Aranel 2020</td>\n",
       "      <td>12.5</td>\n",
       "      <td>1</td>\n",
       "      <td>None</td>\n",
       "    </tr>\n",
       "  </tbody>\n",
       "</table>\n",
       "<p>630 rows × 4 columns</p>\n",
       "</div>"
      ],
      "text/plain": [
       "                                                  name  alcohol character  \\\n",
       "0     The Ned 'Waihopai River' Sauvignon Blanc 2020/21     13.0         1   \n",
       "1                La Toledana Gavi di Gavi DOCG 2019/20     13.0         1   \n",
       "2                           Saintsbury Chardonnay 2018     13.5         1   \n",
       "3      Domaine Fouassier 'La Garenne' Sancerre 2019/20     13.5         2   \n",
       "4                           Martín Códax Albariño 2020     13.0         1   \n",
       "..                                                 ...      ...       ...   \n",
       "625                          Bott Frigyes Furmint 2018     13.0         1   \n",
       "626          Casillero del Diablo Sauvignon Blanc 2019     13.0         1   \n",
       "627            Jordan Barrel Fermented Chardonnay 2019     13.5         1   \n",
       "628  Awatere River Single Vineyard Sauvignon Blanc ...     13.0         1   \n",
       "629                       Berton Vineyards Aranel 2020     12.5         1   \n",
       "\n",
       "               class  \n",
       "0    Sauvignon Blanc  \n",
       "1               Gavi  \n",
       "2         Chardonnay  \n",
       "3           Sancerre  \n",
       "4           Albariño  \n",
       "..               ...  \n",
       "625             None  \n",
       "626  Sauvignon Blanc  \n",
       "627       Chardonnay  \n",
       "628  Sauvignon Blanc  \n",
       "629             None  \n",
       "\n",
       "[630 rows x 4 columns]"
      ]
     },
     "execution_count": 184,
     "metadata": {},
     "output_type": "execute_result"
    }
   ],
   "source": [
    "website_one"
   ]
  },
  {
   "cell_type": "code",
   "execution_count": 40,
   "metadata": {
    "ExecuteTime": {
     "end_time": "2022-02-16T11:57:25.635024Z",
     "start_time": "2022-02-16T11:57:25.627022Z"
    }
   },
   "outputs": [],
   "source": [
    "# df.to_csv(r'C:\\Users\\eyada\\Documents\\UNI-20\\Project\\Algorithm\\wined.csv', index = False)"
   ]
  },
  {
   "cell_type": "markdown",
   "metadata": {},
   "source": [
    "## Webstie 2"
   ]
  },
  {
   "cell_type": "code",
   "execution_count": 71,
   "metadata": {
    "ExecuteTime": {
     "end_time": "2022-02-16T12:06:33.196204Z",
     "start_time": "2022-02-16T12:06:33.176558Z"
    }
   },
   "outputs": [],
   "source": [
    "link = []\n",
    "def scrapeweb(page_number, wine):\n",
    "    pages = 1\n",
    "    while pages != page_number:\n",
    "        url = f'https://www.calaiswine.co.uk/wine/{wine}?p={pages}'\n",
    "        response = requests.get(url)\n",
    "        # html = response.text\n",
    "        wines = BeautifulSoup(response.content, 'html.parser')\n",
    "        for i in wines.find_all('a', {'class': 'product-item-link'}):\n",
    "            link.append(i['href'])\n",
    "        pages = pages + 1"
   ]
  },
  {
   "cell_type": "code",
   "execution_count": 72,
   "metadata": {
    "ExecuteTime": {
     "end_time": "2022-02-16T12:06:37.816336Z",
     "start_time": "2022-02-16T12:06:34.339182Z"
    }
   },
   "outputs": [],
   "source": [
    "scrapeweb(7, 'white-wine')"
   ]
  },
  {
   "cell_type": "code",
   "execution_count": 74,
   "metadata": {
    "ExecuteTime": {
     "end_time": "2022-02-16T12:06:48.946287Z",
     "start_time": "2022-02-16T12:06:46.027883Z"
    }
   },
   "outputs": [],
   "source": [
    "scrapeweb(6, 'red-wine')"
   ]
  },
  {
   "cell_type": "code",
   "execution_count": 76,
   "metadata": {
    "ExecuteTime": {
     "end_time": "2022-02-16T12:06:54.228042Z",
     "start_time": "2022-02-16T12:06:53.446902Z"
    }
   },
   "outputs": [],
   "source": [
    "scrapeweb(3, 'other-wines')"
   ]
  },
  {
   "cell_type": "code",
   "execution_count": 77,
   "metadata": {
    "ExecuteTime": {
     "end_time": "2022-02-16T12:06:55.702997Z",
     "start_time": "2022-02-16T12:06:55.694562Z"
    }
   },
   "outputs": [
    {
     "data": {
      "text/plain": [
       "122"
      ]
     },
     "execution_count": 77,
     "metadata": {},
     "output_type": "execute_result"
    }
   ],
   "source": [
    "len(link)"
   ]
  },
  {
   "cell_type": "code",
   "execution_count": 200,
   "metadata": {
    "ExecuteTime": {
     "end_time": "2022-02-16T12:57:57.954797Z",
     "start_time": "2022-02-16T12:56:58.302543Z"
    }
   },
   "outputs": [
    {
     "name": "stdout",
     "output_type": "stream",
     "text": [
      "122\n"
     ]
    }
   ],
   "source": [
    "name = []\n",
    "alcohol_val = []\n",
    "character_val = []\n",
    "wine_count = 0\n",
    "for x in link:\n",
    "    url = x\n",
    "    response = requests.get(url)\n",
    "    # html = response.text\n",
    "    wine = BeautifulSoup(response.content, 'html.parser')\n",
    "    name.append(wine.find('span', {'class': 'base'}).getText())\n",
    "    try:\n",
    "        alcohol = wine.find('div', {'class': 'quick-attributes__element abv'})\n",
    "        alcohol_val.append(alcohol.find('span', {'class': 'value'}).text.strip('%'))\n",
    "    except:\n",
    "        alcohol_val.append(None)\n",
    "    try:\n",
    "        character = wine.find('div', class_='quick-attributes__element style')\n",
    "        character_val.append(character.find('span', {'class': 'value'}).getText())\n",
    "    except:\n",
    "        character_val.append('none')\n",
    "    wine_count += 1\n",
    "print(wine_count)"
   ]
  },
  {
   "cell_type": "code",
   "execution_count": 201,
   "metadata": {
    "ExecuteTime": {
     "end_time": "2022-02-16T12:58:30.820973Z",
     "start_time": "2022-02-16T12:58:30.812971Z"
    }
   },
   "outputs": [],
   "source": [
    "website_two = pd.DataFrame({\n",
    "    'name': name,\n",
    "    'alcohol': alcohol_val,\n",
    "    'character': character_val\n",
    "})"
   ]
  },
  {
   "cell_type": "code",
   "execution_count": 202,
   "metadata": {
    "ExecuteTime": {
     "end_time": "2022-02-16T12:58:31.560270Z",
     "start_time": "2022-02-16T12:58:31.545014Z"
    }
   },
   "outputs": [],
   "source": [
    "variety = [\n",
    "    'Riesling', \n",
    "    'Pinot Grigio', \n",
    "    'Sauvignon Blanc' ,\n",
    "    'Sancerre', \n",
    "    'Chardonnay', \n",
    "    'Mâcon-Villages', \n",
    "    'Pinot Noir', \n",
    "    'Cabernet Sauvignon', \n",
    "    'Gavi', \n",
    "    'Albariño', \n",
    "    'Verdejo', \n",
    "    'Pinot Gris', \n",
    "    'Tokaji', \n",
    "    'Vin Santo',\n",
    "    'Chenin Blanc',\n",
    "    'Chablis',\n",
    "    'Malbec',\n",
    "    'Rioja',\n",
    "    'Muscat']\n",
    "l = []\n",
    "count = 0\n",
    "for x in website_two['name']:\n",
    "    for i in variety:\n",
    "        if i in x:\n",
    "            l.append(i)\n",
    "        else:\n",
    "            l.append(None)\n",
    "list = [l[i:i+19] for i in range(0, len(l), 19)]\n",
    "winetype_list = []\n",
    "for i in range(len(list)):\n",
    "    if all(v is None for v in list[i]) == True:\n",
    "        winetype_list.append(None)\n",
    "    else:\n",
    "        for i in list[i]:\n",
    "            if isinstance(i, str) == True:\n",
    "                winetype_list.append(i)"
   ]
  },
  {
   "cell_type": "code",
   "execution_count": 203,
   "metadata": {
    "ExecuteTime": {
     "end_time": "2022-02-16T12:58:32.648895Z",
     "start_time": "2022-02-16T12:58:32.641780Z"
    }
   },
   "outputs": [],
   "source": [
    "website_two['class'] = winetype_list\n"
   ]
  },
  {
   "cell_type": "code",
   "execution_count": 204,
   "metadata": {
    "ExecuteTime": {
     "end_time": "2022-02-16T12:58:33.009369Z",
     "start_time": "2022-02-16T12:58:32.994238Z"
    }
   },
   "outputs": [],
   "source": [
    "# df.to_csv(r'C:\\Users\\eyada\\Documents\\UNI-20\\Project\\Algorithm\\newwined.csv', index = False)"
   ]
  },
  {
   "cell_type": "code",
   "execution_count": 205,
   "metadata": {
    "ExecuteTime": {
     "end_time": "2022-02-16T12:58:33.305203Z",
     "start_time": "2022-02-16T12:58:33.289133Z"
    }
   },
   "outputs": [],
   "source": [
    "website_two.replace({'Light' : 'medium sweet', 'Full' : 'medium dry', 'Dry' : 'very dry', 'Off Dry' : 'off dry', 'Sweet' : 'sweet', 'Medium' : 'medium' } , inplace=True)"
   ]
  },
  {
   "cell_type": "code",
   "execution_count": 206,
   "metadata": {
    "ExecuteTime": {
     "end_time": "2022-02-16T12:58:33.608267Z",
     "start_time": "2022-02-16T12:58:33.584234Z"
    }
   },
   "outputs": [],
   "source": [
    "website_two.replace({'medium sweet' : 6 , 'medium dry' : 4 , 'very dry' : 1 , 'off dry' : 2 , 'sweet' : 7 , 'medium' : 5 } , inplace=True)"
   ]
  },
  {
   "cell_type": "code",
   "execution_count": 207,
   "metadata": {
    "ExecuteTime": {
     "end_time": "2022-02-16T12:58:33.896049Z",
     "start_time": "2022-02-16T12:58:33.888265Z"
    }
   },
   "outputs": [],
   "source": [
    "website_two.dropna(subset = ['character'], inplace=True)"
   ]
  },
  {
   "cell_type": "code",
   "execution_count": 208,
   "metadata": {
    "ExecuteTime": {
     "end_time": "2022-02-16T12:58:34.238428Z",
     "start_time": "2022-02-16T12:58:34.230418Z"
    }
   },
   "outputs": [],
   "source": [
    "# website_two.character = website_two.character.astype(int)"
   ]
  },
  {
   "cell_type": "code",
   "execution_count": 209,
   "metadata": {
    "ExecuteTime": {
     "end_time": "2022-02-16T12:58:34.538465Z",
     "start_time": "2022-02-16T12:58:34.526472Z"
    }
   },
   "outputs": [],
   "source": [
    "wine = website_one.append(website_two)"
   ]
  },
  {
   "cell_type": "code",
   "execution_count": 210,
   "metadata": {
    "ExecuteTime": {
     "end_time": "2022-02-16T12:58:35.017727Z",
     "start_time": "2022-02-16T12:58:34.991456Z"
    }
   },
   "outputs": [
    {
     "data": {
      "text/html": [
       "<div>\n",
       "<style scoped>\n",
       "    .dataframe tbody tr th:only-of-type {\n",
       "        vertical-align: middle;\n",
       "    }\n",
       "\n",
       "    .dataframe tbody tr th {\n",
       "        vertical-align: top;\n",
       "    }\n",
       "\n",
       "    .dataframe thead th {\n",
       "        text-align: right;\n",
       "    }\n",
       "</style>\n",
       "<table border=\"1\" class=\"dataframe\">\n",
       "  <thead>\n",
       "    <tr style=\"text-align: right;\">\n",
       "      <th></th>\n",
       "      <th>name</th>\n",
       "      <th>alcohol</th>\n",
       "      <th>character</th>\n",
       "      <th>class</th>\n",
       "      <th>beverage</th>\n",
       "    </tr>\n",
       "  </thead>\n",
       "  <tbody>\n",
       "    <tr>\n",
       "      <th>0</th>\n",
       "      <td>The Ned 'Waihopai River' Sauvignon Blanc 2020/21</td>\n",
       "      <td>13</td>\n",
       "      <td>1</td>\n",
       "      <td>Sauvignon Blanc</td>\n",
       "      <td>1</td>\n",
       "    </tr>\n",
       "    <tr>\n",
       "      <th>1</th>\n",
       "      <td>La Toledana Gavi di Gavi DOCG 2019/20</td>\n",
       "      <td>13</td>\n",
       "      <td>1</td>\n",
       "      <td>Gavi</td>\n",
       "      <td>1</td>\n",
       "    </tr>\n",
       "    <tr>\n",
       "      <th>2</th>\n",
       "      <td>Saintsbury Chardonnay 2018</td>\n",
       "      <td>13.5</td>\n",
       "      <td>1</td>\n",
       "      <td>Chardonnay</td>\n",
       "      <td>1</td>\n",
       "    </tr>\n",
       "    <tr>\n",
       "      <th>3</th>\n",
       "      <td>Domaine Fouassier 'La Garenne' Sancerre 2019/20</td>\n",
       "      <td>13.5</td>\n",
       "      <td>2</td>\n",
       "      <td>Sancerre</td>\n",
       "      <td>1</td>\n",
       "    </tr>\n",
       "    <tr>\n",
       "      <th>4</th>\n",
       "      <td>Martín Códax Albariño 2020</td>\n",
       "      <td>13</td>\n",
       "      <td>1</td>\n",
       "      <td>Albariño</td>\n",
       "      <td>1</td>\n",
       "    </tr>\n",
       "    <tr>\n",
       "      <th>...</th>\n",
       "      <td>...</td>\n",
       "      <td>...</td>\n",
       "      <td>...</td>\n",
       "      <td>...</td>\n",
       "      <td>...</td>\n",
       "    </tr>\n",
       "    <tr>\n",
       "      <th>117</th>\n",
       "      <td>Vacqueyras Domaine de la Pertiane</td>\n",
       "      <td>14.5</td>\n",
       "      <td>5</td>\n",
       "      <td>None</td>\n",
       "      <td>1</td>\n",
       "    </tr>\n",
       "    <tr>\n",
       "      <th>118</th>\n",
       "      <td>Bandol Rosé</td>\n",
       "      <td>13</td>\n",
       "      <td>1</td>\n",
       "      <td>None</td>\n",
       "      <td>1</td>\n",
       "    </tr>\n",
       "    <tr>\n",
       "      <th>119</th>\n",
       "      <td>Essentielle Les Masques Rosé Magnum</td>\n",
       "      <td>12.5</td>\n",
       "      <td>1</td>\n",
       "      <td>None</td>\n",
       "      <td>1</td>\n",
       "    </tr>\n",
       "    <tr>\n",
       "      <th>120</th>\n",
       "      <td>Sancerre Rosé La Perriere</td>\n",
       "      <td>13</td>\n",
       "      <td>1</td>\n",
       "      <td>Sancerre</td>\n",
       "      <td>1</td>\n",
       "    </tr>\n",
       "    <tr>\n",
       "      <th>121</th>\n",
       "      <td>Chateau Grand Jauga Sauternes</td>\n",
       "      <td>13.5</td>\n",
       "      <td>4</td>\n",
       "      <td>None</td>\n",
       "      <td>1</td>\n",
       "    </tr>\n",
       "  </tbody>\n",
       "</table>\n",
       "<p>752 rows × 5 columns</p>\n",
       "</div>"
      ],
      "text/plain": [
       "                                                 name alcohol character  \\\n",
       "0    The Ned 'Waihopai River' Sauvignon Blanc 2020/21      13         1   \n",
       "1               La Toledana Gavi di Gavi DOCG 2019/20      13         1   \n",
       "2                          Saintsbury Chardonnay 2018    13.5         1   \n",
       "3     Domaine Fouassier 'La Garenne' Sancerre 2019/20    13.5         2   \n",
       "4                          Martín Códax Albariño 2020      13         1   \n",
       "..                                                ...     ...       ...   \n",
       "117                 Vacqueyras Domaine de la Pertiane    14.5         5   \n",
       "118                                       Bandol Rosé      13         1   \n",
       "119               Essentielle Les Masques Rosé Magnum    12.5         1   \n",
       "120                         Sancerre Rosé La Perriere      13         1   \n",
       "121                     Chateau Grand Jauga Sauternes    13.5         4   \n",
       "\n",
       "               class  beverage  \n",
       "0    Sauvignon Blanc         1  \n",
       "1               Gavi         1  \n",
       "2         Chardonnay         1  \n",
       "3           Sancerre         1  \n",
       "4           Albariño         1  \n",
       "..               ...       ...  \n",
       "117             None         1  \n",
       "118             None         1  \n",
       "119             None         1  \n",
       "120         Sancerre         1  \n",
       "121             None         1  \n",
       "\n",
       "[752 rows x 5 columns]"
      ]
     },
     "execution_count": 210,
     "metadata": {},
     "output_type": "execute_result"
    }
   ],
   "source": [
    "wine['beverage'] = 1\n",
    "wine"
   ]
  },
  {
   "cell_type": "code",
   "execution_count": 211,
   "metadata": {
    "ExecuteTime": {
     "end_time": "2022-02-16T12:58:36.605388Z",
     "start_time": "2022-02-16T12:58:36.581789Z"
    }
   },
   "outputs": [],
   "source": [
    "wine.to_csv(r'C:\\Users\\eyada\\Documents\\UNI-20\\Project\\Algorithm\\wine-data.csv', index = False)"
   ]
  },
  {
   "cell_type": "code",
   "execution_count": null,
   "metadata": {},
   "outputs": [],
   "source": []
  }
 ],
 "metadata": {
  "kernelspec": {
   "display_name": "Python 3",
   "language": "python",
   "name": "python3"
  },
  "language_info": {
   "codemirror_mode": {
    "name": "ipython",
    "version": 3
   },
   "file_extension": ".py",
   "mimetype": "text/x-python",
   "name": "python",
   "nbconvert_exporter": "python",
   "pygments_lexer": "ipython3",
   "version": "3.8.5"
  },
  "toc": {
   "base_numbering": 1,
   "nav_menu": {},
   "number_sections": true,
   "sideBar": true,
   "skip_h1_title": false,
   "title_cell": "Table of Contents",
   "title_sidebar": "Contents",
   "toc_cell": false,
   "toc_position": {},
   "toc_section_display": true,
   "toc_window_display": false
  }
 },
 "nbformat": 4,
 "nbformat_minor": 4
}
