{
 "cells": [
  {
   "cell_type": "code",
   "execution_count": 2,
   "metadata": {
    "ExecuteTime": {
     "end_time": "2022-02-16T11:05:11.045193Z",
     "start_time": "2022-02-16T11:05:08.728363Z"
    }
   },
   "outputs": [],
   "source": [
    "import pandas as pd\n",
    "import numpy as np\n",
    "import matplotlib.pyplot as plt\n",
    "import seaborn as sns\n",
    "from urllib.request import urlopen, Request\n",
    "from bs4 import BeautifulSoup\n",
    "import requests\n",
    "%matplotlib inline"
   ]
  },
  {
   "cell_type": "code",
   "execution_count": 6,
   "metadata": {
    "ExecuteTime": {
     "end_time": "2022-02-16T11:05:40.736681Z",
     "start_time": "2022-02-16T11:05:37.806834Z"
    }
   },
   "outputs": [
    {
     "name": "stdout",
     "output_type": "stream",
     "text": [
      "58\n"
     ]
    }
   ],
   "source": [
    "link = []\n",
    "pages = 1\n",
    "link_count = 0\n",
    "while pages != 7:\n",
    "    url = f'https://www.calaiswine.co.uk/wine/white-wine?p={pages}'\n",
    "    response = requests.get(url)\n",
    "    # html = response.text\n",
    "    wines = BeautifulSoup(response.content, 'html.parser')\n",
    "    for i in wines.find_all('a', {'class': 'product-item-link'}):\n",
    "        link.append(i['href'])\n",
    "        link_count+=1\n",
    "    pages = pages + 1\n",
    "print(link_count)"
   ]
  },
  {
   "cell_type": "code",
   "execution_count": 7,
   "metadata": {
    "ExecuteTime": {
     "end_time": "2022-02-16T11:06:09.228075Z",
     "start_time": "2022-02-16T11:05:55.537997Z"
    }
   },
   "outputs": [
    {
     "name": "stdout",
     "output_type": "stream",
     "text": [
      "108\n"
     ]
    }
   ],
   "source": [
    "page = 1\n",
    "while page != 6:\n",
    "    url = f'https://www.calaiswine.co.uk/wine/red-wine?p={page}'\n",
    "    response = requests.get(url)\n",
    "    # html = response.text\n",
    "    wines = BeautifulSoup(response.content, 'html.parser')\n",
    "    for i in wines.find_all('a', {'class': 'product-item-link'}):\n",
    "        link.append(i['href'])\n",
    "        link_count+=1\n",
    "    page = page + 1\n",
    "print(link_count)"
   ]
  },
  {
   "cell_type": "code",
   "execution_count": 8,
   "metadata": {
    "ExecuteTime": {
     "end_time": "2022-02-16T11:06:42.225731Z",
     "start_time": "2022-02-16T11:06:38.285544Z"
    }
   },
   "outputs": [
    {
     "name": "stdout",
     "output_type": "stream",
     "text": [
      "122\n"
     ]
    }
   ],
   "source": [
    "page = 1\n",
    "while page != 3:\n",
    "    url = f'https://www.calaiswine.co.uk/wine/other-wines?p={page}'\n",
    "    response = requests.get(url)\n",
    "    # html = response.text\n",
    "    wines = BeautifulSoup(response.content, 'html.parser')\n",
    "    for i in wines.find_all('a', {'class': 'product-item-link'}):\n",
    "        link.append(i['href'])\n",
    "        link_count+=1\n",
    "    page = page + 1\n",
    "print(link_count)"
   ]
  },
  {
   "cell_type": "code",
   "execution_count": 97,
   "metadata": {
    "ExecuteTime": {
     "end_time": "2022-02-16T12:00:13.665427Z",
     "start_time": "2022-02-16T12:00:13.658175Z"
    }
   },
   "outputs": [
    {
     "data": {
      "text/plain": [
       "122"
      ]
     },
     "execution_count": 97,
     "metadata": {},
     "output_type": "execute_result"
    }
   ],
   "source": [
    "len(link)"
   ]
  },
  {
   "cell_type": "code",
   "execution_count": 10,
   "metadata": {
    "ExecuteTime": {
     "end_time": "2022-02-16T11:08:36.796793Z",
     "start_time": "2022-02-16T11:06:55.315927Z"
    }
   },
   "outputs": [
    {
     "name": "stdout",
     "output_type": "stream",
     "text": [
      "122\n"
     ]
    }
   ],
   "source": [
    "name = []\n",
    "alcohol_val = []\n",
    "character_val = []\n",
    "wine_count = 0\n",
    "for x in link:\n",
    "    url = x\n",
    "    response = requests.get(url)\n",
    "    # html = response.text\n",
    "    wine = BeautifulSoup(response.content, 'html.parser')\n",
    "    name.append(wine.find('span', {'class': 'base'}).getText())\n",
    "    try:\n",
    "        alcohol = wine.find('div', {'class': 'quick-attributes__element abv'})\n",
    "        alcohol_val.append(alcohol.find('span', {'class': 'value'}).getText())\n",
    "    except:\n",
    "        alcohol_val.append(None)\n",
    "    try:\n",
    "        character = wine.find('div', class_='quick-attributes__element style')\n",
    "        character_val.append(character.find('span', {'class': 'value'}).getText())\n",
    "    except:\n",
    "        character_val.append(None)\n",
    "    wine_count += 1\n",
    "print(wine_count)"
   ]
  },
  {
   "cell_type": "code",
   "execution_count": 11,
   "metadata": {
    "ExecuteTime": {
     "end_time": "2022-02-16T11:08:59.497471Z",
     "start_time": "2022-02-16T11:08:59.467847Z"
    }
   },
   "outputs": [],
   "source": [
    "df = pd.DataFrame({\n",
    "    'name': name,\n",
    "    'alcohol': alcohol_val,\n",
    "    'character': character_val\n",
    "})"
   ]
  },
  {
   "cell_type": "code",
   "execution_count": 12,
   "metadata": {
    "ExecuteTime": {
     "end_time": "2022-02-16T11:09:04.238205Z",
     "start_time": "2022-02-16T11:09:04.216071Z"
    }
   },
   "outputs": [
    {
     "data": {
      "text/html": [
       "<div>\n",
       "<style scoped>\n",
       "    .dataframe tbody tr th:only-of-type {\n",
       "        vertical-align: middle;\n",
       "    }\n",
       "\n",
       "    .dataframe tbody tr th {\n",
       "        vertical-align: top;\n",
       "    }\n",
       "\n",
       "    .dataframe thead th {\n",
       "        text-align: right;\n",
       "    }\n",
       "</style>\n",
       "<table border=\"1\" class=\"dataframe\">\n",
       "  <thead>\n",
       "    <tr style=\"text-align: right;\">\n",
       "      <th></th>\n",
       "      <th>name</th>\n",
       "      <th>alcohol</th>\n",
       "      <th>character</th>\n",
       "    </tr>\n",
       "  </thead>\n",
       "  <tbody>\n",
       "    <tr>\n",
       "      <th>0</th>\n",
       "      <td>Jacked Sauvignon Blanc with Ginger 50cl</td>\n",
       "      <td>12.5%</td>\n",
       "      <td>Dry</td>\n",
       "    </tr>\n",
       "    <tr>\n",
       "      <th>1</th>\n",
       "      <td>Jimmy Liao's Riesling</td>\n",
       "      <td>11%</td>\n",
       "      <td>Off Dry</td>\n",
       "    </tr>\n",
       "    <tr>\n",
       "      <th>2</th>\n",
       "      <td>Frontera Crisp &amp; Fresh White</td>\n",
       "      <td>12%</td>\n",
       "      <td>Dry</td>\n",
       "    </tr>\n",
       "    <tr>\n",
       "      <th>3</th>\n",
       "      <td>Loch Fyne Chenin Blanc</td>\n",
       "      <td>13.5%</td>\n",
       "      <td>Dry</td>\n",
       "    </tr>\n",
       "    <tr>\n",
       "      <th>4</th>\n",
       "      <td>Flagstone Poetry Sauvignon Blanc</td>\n",
       "      <td>12.5%</td>\n",
       "      <td>Dry</td>\n",
       "    </tr>\n",
       "    <tr>\n",
       "      <th>...</th>\n",
       "      <td>...</td>\n",
       "      <td>...</td>\n",
       "      <td>...</td>\n",
       "    </tr>\n",
       "    <tr>\n",
       "      <th>117</th>\n",
       "      <td>Vacqueyras Domaine de la Pertiane</td>\n",
       "      <td>14.5%</td>\n",
       "      <td>Medium</td>\n",
       "    </tr>\n",
       "    <tr>\n",
       "      <th>118</th>\n",
       "      <td>Bandol Rosé</td>\n",
       "      <td>13%</td>\n",
       "      <td>Dry</td>\n",
       "    </tr>\n",
       "    <tr>\n",
       "      <th>119</th>\n",
       "      <td>Essentielle Les Masques Rosé Magnum</td>\n",
       "      <td>12.5%</td>\n",
       "      <td>Dry</td>\n",
       "    </tr>\n",
       "    <tr>\n",
       "      <th>120</th>\n",
       "      <td>Sancerre Rosé La Perriere</td>\n",
       "      <td>13%</td>\n",
       "      <td>Dry</td>\n",
       "    </tr>\n",
       "    <tr>\n",
       "      <th>121</th>\n",
       "      <td>Chateau Grand Jauga Sauternes</td>\n",
       "      <td>13.5%</td>\n",
       "      <td>Full</td>\n",
       "    </tr>\n",
       "  </tbody>\n",
       "</table>\n",
       "<p>122 rows × 3 columns</p>\n",
       "</div>"
      ],
      "text/plain": [
       "                                        name alcohol character\n",
       "0    Jacked Sauvignon Blanc with Ginger 50cl   12.5%       Dry\n",
       "1                      Jimmy Liao's Riesling     11%   Off Dry\n",
       "2               Frontera Crisp & Fresh White     12%       Dry\n",
       "3                     Loch Fyne Chenin Blanc   13.5%       Dry\n",
       "4           Flagstone Poetry Sauvignon Blanc   12.5%       Dry\n",
       "..                                       ...     ...       ...\n",
       "117        Vacqueyras Domaine de la Pertiane   14.5%    Medium\n",
       "118                              Bandol Rosé     13%       Dry\n",
       "119      Essentielle Les Masques Rosé Magnum   12.5%       Dry\n",
       "120                Sancerre Rosé La Perriere     13%       Dry\n",
       "121            Chateau Grand Jauga Sauternes   13.5%      Full\n",
       "\n",
       "[122 rows x 3 columns]"
      ]
     },
     "execution_count": 12,
     "metadata": {},
     "output_type": "execute_result"
    }
   ],
   "source": [
    "df"
   ]
  },
  {
   "cell_type": "code",
   "execution_count": 93,
   "metadata": {
    "ExecuteTime": {
     "end_time": "2022-02-16T11:26:58.568237Z",
     "start_time": "2022-02-16T11:26:58.539249Z"
    }
   },
   "outputs": [],
   "source": [
    "variety = [\n",
    "    'Riesling', \n",
    "    'Pinot Grigio', \n",
    "    'Sauvignon Blanc' ,\n",
    "    'Sancerre', \n",
    "    'Chardonnay', \n",
    "    'Mâcon-Villages', \n",
    "    'Pinot Noir', \n",
    "    'Cabernet Sauvignon', \n",
    "    'Gavi', \n",
    "    'Albariño', \n",
    "    'Verdejo', \n",
    "    'Pinot Gris', \n",
    "    'Tokaji', \n",
    "    'Vin Santo',\n",
    "    'Chenin Blanc',\n",
    "    'Chablis',\n",
    "    'Malbec',\n",
    "    'Rioja',\n",
    "    'Muscat']\n",
    "l = []\n",
    "count = 0\n",
    "for x in df['name']:\n",
    "    for i in variety:\n",
    "        if i in x:\n",
    "            l.append(i)\n",
    "        else:\n",
    "            l.append(None)\n",
    "list = [l[i:i+19] for i in range(0, len(l), 19)]\n",
    "winetype_list = []\n",
    "for i in range(len(list)):\n",
    "    if all(v is None for v in list[i]) == True:\n",
    "        winetype_list.append(None)\n",
    "    else:\n",
    "        for i in list[i]:\n",
    "            if isinstance(i, str) == True:\n",
    "                winetype_list.append(i)"
   ]
  },
  {
   "cell_type": "code",
   "execution_count": 94,
   "metadata": {
    "ExecuteTime": {
     "end_time": "2022-02-16T11:26:59.647267Z",
     "start_time": "2022-02-16T11:26:59.627930Z"
    }
   },
   "outputs": [
    {
     "data": {
      "text/plain": [
       "122"
      ]
     },
     "execution_count": 94,
     "metadata": {},
     "output_type": "execute_result"
    }
   ],
   "source": [
    "len(winetype_list)"
   ]
  },
  {
   "cell_type": "code",
   "execution_count": 95,
   "metadata": {
    "ExecuteTime": {
     "end_time": "2022-02-16T11:27:04.387933Z",
     "start_time": "2022-02-16T11:27:04.366823Z"
    }
   },
   "outputs": [],
   "source": [
    "df['class'] = winetype_list"
   ]
  },
  {
   "cell_type": "code",
   "execution_count": 96,
   "metadata": {
    "ExecuteTime": {
     "end_time": "2022-02-16T11:27:05.248058Z",
     "start_time": "2022-02-16T11:27:05.227841Z"
    }
   },
   "outputs": [],
   "source": [
    "df.to_csv(r'C:\\Users\\eyada\\Documents\\UNI-20\\Project\\Algorithm\\newwined.csv', index = False)"
   ]
  },
  {
   "cell_type": "code",
   "execution_count": 11,
   "metadata": {
    "ExecuteTime": {
     "end_time": "2022-02-15T20:00:58.234878Z",
     "start_time": "2022-02-15T20:00:58.220633Z"
    }
   },
   "outputs": [
    {
     "data": {
      "text/plain": [
       "Dry        58\n",
       "Medium     50\n",
       "Full        5\n",
       "Off Dry     4\n",
       "Light       3\n",
       "Sweet       1\n",
       "Name: character, dtype: int64"
      ]
     },
     "execution_count": 11,
     "metadata": {},
     "output_type": "execute_result"
    }
   ],
   "source": [
    "df['character'].value_counts()"
   ]
  }
 ],
 "metadata": {
  "kernelspec": {
   "display_name": "Python 3",
   "language": "python",
   "name": "python3"
  },
  "language_info": {
   "codemirror_mode": {
    "name": "ipython",
    "version": 3
   },
   "file_extension": ".py",
   "mimetype": "text/x-python",
   "name": "python",
   "nbconvert_exporter": "python",
   "pygments_lexer": "ipython3",
   "version": "3.8.5"
  },
  "toc": {
   "base_numbering": 1,
   "nav_menu": {},
   "number_sections": true,
   "sideBar": true,
   "skip_h1_title": false,
   "title_cell": "Table of Contents",
   "title_sidebar": "Contents",
   "toc_cell": false,
   "toc_position": {},
   "toc_section_display": true,
   "toc_window_display": false
  }
 },
 "nbformat": 4,
 "nbformat_minor": 4
}
