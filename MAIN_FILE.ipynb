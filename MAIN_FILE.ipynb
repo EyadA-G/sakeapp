{
 "cells": [
  {
   "cell_type": "markdown",
   "metadata": {},
   "source": [
    "## Importing & Normalizing data"
   ]
  },
  {
   "cell_type": "code",
   "execution_count": 1,
   "metadata": {
    "ExecuteTime": {
     "end_time": "2022-05-03T22:50:41.257766Z",
     "start_time": "2022-05-03T22:50:39.517311Z"
    }
   },
   "outputs": [],
   "source": [
    "from sklearn.metrics.pairwise import cosine_similarity, euclidean_distances"
   ]
  },
  {
   "cell_type": "code",
   "execution_count": 2,
   "metadata": {
    "ExecuteTime": {
     "end_time": "2022-05-03T22:50:41.858452Z",
     "start_time": "2022-05-03T22:50:41.257766Z"
    }
   },
   "outputs": [],
   "source": [
    "import numpy as np\n",
    "import pandas as pd\n",
    "#Import sake and wine csv\n",
    "\n",
    "sake_data = pd.read_csv('./sake.csv', header=None)\n",
    "wine_data = pd.read_csv('./wine-data.csv', header=None)\n",
    "\n",
    "#Adding column titles\n",
    "\n",
    "sake_data.columns = ['Name', 'Brewery', 'Company', 'Prefecture', 'Alcohol', 'Acidity', 'Sake Meter', 'Rice variety', 'Polishing ratio', 'Character', 'Character-full', 'Pairings', 'Temperature', 'Class']\n",
    "wine_data.columns = ['Name', 'Alcohol', 'Character', 'Class', 'Beverage']"
   ]
  },
  {
   "cell_type": "code",
   "execution_count": 3,
   "metadata": {
    "ExecuteTime": {
     "end_time": "2022-05-03T22:50:41.866733Z",
     "start_time": "2022-05-03T22:50:41.858452Z"
    }
   },
   "outputs": [],
   "source": [
    "#Popping off the first column in both dataframes\n",
    "sake_data = sake_data.iloc[1: , :]\n",
    "wine_data = wine_data.iloc[1: , :]"
   ]
  },
  {
   "cell_type": "code",
   "execution_count": 4,
   "metadata": {
    "ExecuteTime": {
     "end_time": "2022-05-03T22:50:41.897540Z",
     "start_time": "2022-05-03T22:50:41.869952Z"
    }
   },
   "outputs": [],
   "source": [
    "#Renaming dataFrames\n",
    "df_sake = pd.DataFrame(sake_data)\n",
    "df_wine = pd.DataFrame(wine_data)"
   ]
  },
  {
   "cell_type": "markdown",
   "metadata": {
    "ExecuteTime": {
     "end_time": "2022-05-03T22:35:51.777043Z",
     "start_time": "2022-05-03T22:35:51.769027Z"
    },
    "heading_collapsed": true
   },
   "source": [
    "### for method two"
   ]
  },
  {
   "cell_type": "code",
   "execution_count": null,
   "metadata": {
    "ExecuteTime": {
     "end_time": "2022-04-30T11:31:42.667922Z",
     "start_time": "2022-04-30T11:31:42.644923Z"
    },
    "hidden": true
   },
   "outputs": [],
   "source": [
    "# df_wine['Red Meat'] = 0\n",
    "# df_wine['Pork'] = 0\n",
    "# df_wine['Poultry'] = 0\n",
    "# df_wine['Mollusc'] = 0\n",
    "# df_wine['Fish'] = 0\n",
    "# df_wine['Lobster-Shellfish'] = 0\n",
    "# df_wine['Grilled'] = 0\n",
    "# df_wine['Hard Cheese'] = 0\n",
    "# df_wine['Soft Cheese'] = 0\n",
    "# df_wine['Green Vegetables'] = 0\n",
    "# df_wine['Soft Vegetables'] = 0\n",
    "# df_wine['Fungi'] = 0\n",
    "# df_wine['Beans'] = 0\n",
    "# df_wineA['Spicy'] = 0\n",
    "# df_wine['Fruits'] = 0\n",
    "# df_wine['Dessert'] = 0\n",
    "\n",
    "\n",
    "\n",
    "\n",
    "# df_sake['Red Meat'] = 0\n",
    "# df_sake['Pork'] = 0\n",
    "# df_sake['Poultry'] = 0\n",
    "# df_sake['Mollusc'] = 0\n",
    "# df_sake['Fish'] = 0\n",
    "# df_sake['Lobster-Shellfish'] = 0\n",
    "# df_sake['Grilled'] = 0\n",
    "# df_sake['Hard Cheese'] = 0\n",
    "# df_sake['Soft Cheese'] = 0\n",
    "# df_sake['Green Vegetables'] = 0\n",
    "# df_sake['Soft Vegetables'] = 0\n",
    "# df_sake['Fungi'] = 0\n",
    "# df_sake['Beans'] = 0\n",
    "# df_sake['Spicy'] = 0\n",
    "# df_sake['Fruits'] = 0\n",
    "# df_sake['Dessert'] = 0"
   ]
  },
  {
   "cell_type": "code",
   "execution_count": null,
   "metadata": {
    "ExecuteTime": {
     "end_time": "2022-04-30T14:32:57.527761Z",
     "start_time": "2022-04-30T14:32:57.497505Z"
    },
    "hidden": true
   },
   "outputs": [],
   "source": [
    "# def fill_sake_data(inputs, fill):\n",
    "#     df_sake.loc[df_sake.Name == inputs, 'Red Meat'] = fill[0]\n",
    "#     df_sake.loc[df_sake.Name == inputs, 'Pork'] = fill[1]\n",
    "#     df_sake.loc[df_sake.Name == inputs, 'Poultry'] = fill[2]\n",
    "#     df_sake.loc[df_sake.Name == inputs, 'Mollusc'] = fill[3]\n",
    "#     df_sake.loc[df_sake.Name == inputs, 'Fish'] = fill[4]\n",
    "#     df_sake.loc[df_sake.Name == inputs, 'Lobster-Shellfish'] = fill[5]\n",
    "#     df_sake.loc[df_sake.Name == inputs, 'Grilled'] = fill[6]\n",
    "#     df_sake.loc[df_sake.Name == inputs, 'Hard Cheese'] = fill[7]\n",
    "#     df_sake.loc[df_sake.Name == inputs, 'Soft Cheese'] = fill[8]\n",
    "#     df_sake.loc[df_sake.Name == inputs, 'Green Vegetables'] = fill[9]\n",
    "#     df_sake.loc[df_sake.Name == inputs, 'Soft Vegetables'] = fill[10]\n",
    "#     df_sake.loc[df_sake.Name == inputs, 'Fungi'] = fill[11]\n",
    "#     df_sake.loc[df_sake.Name == inputs, 'Beans'] = fill[12]\n",
    "#     df_sake.loc[df_sake.Name == inputs, 'Spicy'] = fill[13]\n",
    "#     df_sake.loc[df_sake.Name == inputs, 'Fruits'] = fill[14]\n",
    "#     df_sake.loc[df_sake.Name == inputs, 'Dessert'] = fill[15]\n",
    "\n",
    "# fill_sake_data(\n",
    "#  'Dewazakura “Namagenshu”', \n",
    "#     [\n",
    "#     1\n",
    "#      ,1\n",
    "#      ,1\n",
    "#      ,1\n",
    "#      ,1\n",
    "#      ,1\n",
    "#      ,0\n",
    "#      ,0\n",
    "#      ,0\n",
    "#      ,1\n",
    "#      ,1\n",
    "#      ,1\n",
    "#      ,1\n",
    "#      ,1\n",
    "#      ,0\n",
    "#      ,0\n",
    "#     ]\n",
    "# )"
   ]
  },
  {
   "cell_type": "code",
   "execution_count": null,
   "metadata": {
    "ExecuteTime": {
     "end_time": "2022-04-30T14:33:43.789458Z",
     "start_time": "2022-04-30T14:33:43.764066Z"
    },
    "hidden": true
   },
   "outputs": [],
   "source": [
    "# # df_sake.to_csv('sake_2.0.csv', index=False)\n",
    "# sd = pd.read_csv('sake_2.0.csv', header=None)\n"
   ]
  },
  {
   "cell_type": "code",
   "execution_count": null,
   "metadata": {
    "ExecuteTime": {
     "end_time": "2022-04-30T14:38:09.676627Z",
     "start_time": "2022-04-30T14:38:09.669004Z"
    },
    "hidden": true
   },
   "outputs": [],
   "source": [
    "# sd.columns = [\n",
    "#     'Name', \n",
    "#     'Brewery', \n",
    "#     'Company', \n",
    "#     'Prefecture', \n",
    "#     'Alcohol', \n",
    "#     'Acidity', \n",
    "#     'Sake Meter', \n",
    "#     'Rice variety', \n",
    "#     'Polishing ratio', \n",
    "#     'Character', \n",
    "#     'Character-full', \n",
    "#     'Pairings', \n",
    "#     'Temperature', \n",
    "#     'Class',\n",
    "#     'Beverage',\n",
    "#     'Red Meat', \n",
    "#     'Pork',\n",
    "#     'Poultry',\n",
    "#     'Mollusc',\n",
    "#     'Fish',\n",
    "#     'Lobster-Shellfish',\n",
    "#     'Grilled',\n",
    "#     'Hard Cheese',\n",
    "#     'Soft Cheese',\n",
    "#     'Green Vegetables',\n",
    "#     'Soft Vegetables',\n",
    "#     'Fungi',\n",
    "#     'Beans',\n",
    "#     'Spicy',\n",
    "#     'Fruits',\n",
    "#     'Dessert']"
   ]
  },
  {
   "cell_type": "code",
   "execution_count": null,
   "metadata": {
    "ExecuteTime": {
     "end_time": "2022-04-30T14:38:19.365682Z",
     "start_time": "2022-04-30T14:38:19.295000Z"
    },
    "hidden": true
   },
   "outputs": [],
   "source": [
    "# sake_data = sake_data.iloc[1: , :]"
   ]
  },
  {
   "cell_type": "code",
   "execution_count": null,
   "metadata": {
    "ExecuteTime": {
     "end_time": "2022-04-30T11:49:15.392708Z",
     "start_time": "2022-04-30T11:49:15.378707Z"
    },
    "hidden": true
   },
   "outputs": [],
   "source": [
    "# def fill_wine_data(inputs, fill):\n",
    "# #     df_wine.loc[df_wine.Class == inputs, 'Red Meat'] = 99\n",
    "#     df_wine.loc[df_wine.Class == inputs, 'Red Meat'] = fill[0]\n",
    "#     df_wine.loc[df_wine.Class == inputs, 'Pork'] = fill[1]\n",
    "#     df_wine.loc[df_wine.Class == inputs, 'Poultry'] = fill[2]\n",
    "#     df_wine.loc[df_wine.Class == inputs, 'Mollusc'] = fill[3]\n",
    "#     df_wine.loc[df_wine.Class == inputs, 'Fish'] = fill[4]\n",
    "#     df_wine.loc[df_wine.Class == inputs, 'Lobster-Shellfish'] = fill[5]\n",
    "#     df_wine.loc[df_wine.Class == inputs, 'Grilled'] = fill[6]\n",
    "#     df_wine.loc[df_wine.Class == inputs, 'Hard Cheese'] = fill[7]\n",
    "#     df_wine.loc[df_wine.Class == inputs, 'Soft Cheese'] = fill[8]\n",
    "#     df_wine.loc[df_wine.Class == inputs, 'Green Vegetables'] = fill[9]\n",
    "#     df_wine.loc[df_wine.Class == inputs, 'Soft Vegetables'] = fill[10]\n",
    "#     df_wine.loc[df_wine.Class == inputs, 'Fungi'] = fill[11]\n",
    "#     df_wine.loc[df_wine.Class == inputs, 'Beans'] = fill[12]\n",
    "#     df_wine.loc[df_wine.Class == inputs, 'Spicy'] = fill[13]\n",
    "#     df_wine.loc[df_wine.Class == inputs, 'Fruits'] = fill[14]\n",
    "#     df_wine.loc[df_wine.Class == inputs, 'Dessert'] = fill[15]\n",
    "\n",
    "# fill_wine_data('Chardonnay', [0,0,1,0,1,1,0,1,1,0,1,1,0,0,1,0])"
   ]
  },
  {
   "cell_type": "markdown",
   "metadata": {},
   "source": [
    "### for method one "
   ]
  },
  {
   "cell_type": "code",
   "execution_count": 5,
   "metadata": {
    "ExecuteTime": {
     "end_time": "2022-05-03T22:50:44.972249Z",
     "start_time": "2022-05-03T22:50:44.956233Z"
    }
   },
   "outputs": [],
   "source": [
    "df_sake['Beverage'] = 0"
   ]
  },
  {
   "cell_type": "code",
   "execution_count": 6,
   "metadata": {
    "ExecuteTime": {
     "end_time": "2022-05-03T22:50:45.383719Z",
     "start_time": "2022-05-03T22:50:45.375221Z"
    }
   },
   "outputs": [],
   "source": [
    "df_sake = df_sake[['Name', 'Alcohol', 'Character', 'Class', 'Beverage']]"
   ]
  },
  {
   "cell_type": "code",
   "execution_count": 7,
   "metadata": {
    "ExecuteTime": {
     "end_time": "2022-05-03T22:50:45.826443Z",
     "start_time": "2022-05-03T22:50:45.793221Z"
    }
   },
   "outputs": [],
   "source": [
    "#Removing all null values or empty values in the dataFrame\n",
    "df_sake.dropna(subset = ['Character'], inplace=True)\n",
    "df_wine.dropna(subset = ['Character'], inplace=True)\n",
    "df_wine.dropna(subset = ['Alcohol'], inplace=True)"
   ]
  },
  {
   "cell_type": "code",
   "execution_count": 8,
   "metadata": {
    "ExecuteTime": {
     "end_time": "2022-05-03T22:50:46.187241Z",
     "start_time": "2022-05-03T22:50:46.164779Z"
    }
   },
   "outputs": [],
   "source": [
    "# df_s.dropna(subset = ['Class'], inplace=True)\n",
    "# df_w.dropna(subset = ['Class'], inplace=True)"
   ]
  },
  {
   "cell_type": "code",
   "execution_count": 9,
   "metadata": {
    "ExecuteTime": {
     "end_time": "2022-05-03T22:50:46.523949Z",
     "start_time": "2022-05-03T22:50:46.509863Z"
    }
   },
   "outputs": [],
   "source": [
    "#specifying each columns datatype for sake\n",
    "\n",
    "df_sake[['Alcohol']] = df_sake[['Alcohol']].astype(str).astype(float)\n",
    "df_sake[['Character']] = df_sake[['Character']].astype(str).astype(int)\n",
    "df_sake[['Beverage']] = df_sake[['Beverage']].astype(str).astype(int)\n",
    "df_sake[['Name']] = df_sake[['Name']].astype(str).astype(str)"
   ]
  },
  {
   "cell_type": "code",
   "execution_count": 10,
   "metadata": {
    "ExecuteTime": {
     "end_time": "2022-05-03T22:50:46.858531Z",
     "start_time": "2022-05-03T22:50:46.842806Z"
    }
   },
   "outputs": [],
   "source": [
    "#specifying each columns datatype for wine\n",
    "\n",
    "df_wine['Alcohol'] = df_wine['Alcohol'].astype(str).astype(float)\n",
    "df_wine['Character'] = df_wine['Character'].str.replace('none', '1').astype(int)\n",
    "df_wine['Character'] = df_wine['Character'].astype(str).astype(int)\n",
    "df_wine['Beverage'] = df_wine['Beverage'].astype(str).astype(int)"
   ]
  },
  {
   "cell_type": "code",
   "execution_count": 11,
   "metadata": {
    "ExecuteTime": {
     "end_time": "2022-05-03T22:50:47.291168Z",
     "start_time": "2022-05-03T22:50:47.259990Z"
    }
   },
   "outputs": [
    {
     "data": {
      "text/plain": [
       "(Name          object\n",
       " Alcohol      float64\n",
       " Character      int32\n",
       " Class         object\n",
       " Beverage       int32\n",
       " dtype: object,\n",
       " Name          object\n",
       " Alcohol      float64\n",
       " Character      int32\n",
       " Class         object\n",
       " Beverage       int32\n",
       " dtype: object)"
      ]
     },
     "execution_count": 11,
     "metadata": {},
     "output_type": "execute_result"
    }
   ],
   "source": [
    "df_wine.dtypes, df_sake.dtypes"
   ]
  },
  {
   "cell_type": "code",
   "execution_count": 12,
   "metadata": {
    "ExecuteTime": {
     "end_time": "2022-05-03T22:50:47.866502Z",
     "start_time": "2022-05-03T22:50:47.842457Z"
    }
   },
   "outputs": [
    {
     "data": {
      "text/html": [
       "<div>\n",
       "<style scoped>\n",
       "    .dataframe tbody tr th:only-of-type {\n",
       "        vertical-align: middle;\n",
       "    }\n",
       "\n",
       "    .dataframe tbody tr th {\n",
       "        vertical-align: top;\n",
       "    }\n",
       "\n",
       "    .dataframe thead th {\n",
       "        text-align: right;\n",
       "    }\n",
       "</style>\n",
       "<table border=\"1\" class=\"dataframe\">\n",
       "  <thead>\n",
       "    <tr style=\"text-align: right;\">\n",
       "      <th></th>\n",
       "      <th>Name</th>\n",
       "      <th>Alcohol</th>\n",
       "      <th>Character</th>\n",
       "      <th>Class</th>\n",
       "      <th>Beverage</th>\n",
       "    </tr>\n",
       "  </thead>\n",
       "  <tbody>\n",
       "    <tr>\n",
       "      <th>1</th>\n",
       "      <td>Akitabare “Koshiki Junzukuri”</td>\n",
       "      <td>14.5</td>\n",
       "      <td>3</td>\n",
       "      <td>Junmai</td>\n",
       "      <td>0</td>\n",
       "    </tr>\n",
       "    <tr>\n",
       "      <th>2</th>\n",
       "      <td>Hoyo “Genji”</td>\n",
       "      <td>15.0</td>\n",
       "      <td>2</td>\n",
       "      <td>Junmai</td>\n",
       "      <td>0</td>\n",
       "    </tr>\n",
       "    <tr>\n",
       "      <th>3</th>\n",
       "      <td>Hoyo “Sawayaka Junmai”</td>\n",
       "      <td>15.0</td>\n",
       "      <td>1</td>\n",
       "      <td>Junmai</td>\n",
       "      <td>0</td>\n",
       "    </tr>\n",
       "    <tr>\n",
       "      <th>4</th>\n",
       "      <td>Kamoizumi “Shusen”</td>\n",
       "      <td>16.0</td>\n",
       "      <td>4</td>\n",
       "      <td>Junmai</td>\n",
       "      <td>0</td>\n",
       "    </tr>\n",
       "    <tr>\n",
       "      <th>5</th>\n",
       "      <td>Kuzuryu “Junmai”</td>\n",
       "      <td>14.5</td>\n",
       "      <td>4</td>\n",
       "      <td>Junmai</td>\n",
       "      <td>0</td>\n",
       "    </tr>\n",
       "    <tr>\n",
       "      <th>6</th>\n",
       "      <td>Masumi “Okuden Kantsukuri”</td>\n",
       "      <td>15.0</td>\n",
       "      <td>7</td>\n",
       "      <td>Junmai</td>\n",
       "      <td>0</td>\n",
       "    </tr>\n",
       "    <tr>\n",
       "      <th>7</th>\n",
       "      <td>Miyasaka “Yawaraka Junmai”</td>\n",
       "      <td>12.0</td>\n",
       "      <td>6</td>\n",
       "      <td>Junmai</td>\n",
       "      <td>0</td>\n",
       "    </tr>\n",
       "    <tr>\n",
       "      <th>8</th>\n",
       "      <td>Sohomare “Karakuchi”</td>\n",
       "      <td>15.0</td>\n",
       "      <td>1</td>\n",
       "      <td>Junmai</td>\n",
       "      <td>0</td>\n",
       "    </tr>\n",
       "    <tr>\n",
       "      <th>9</th>\n",
       "      <td>Sohomare “Tokubetsu Kimoto”</td>\n",
       "      <td>15.0</td>\n",
       "      <td>5</td>\n",
       "      <td>Junmai</td>\n",
       "      <td>0</td>\n",
       "    </tr>\n",
       "    <tr>\n",
       "      <th>11</th>\n",
       "      <td>Tamagawa “Tokubetsu Junmai”</td>\n",
       "      <td>16.5</td>\n",
       "      <td>5</td>\n",
       "      <td>Junmai</td>\n",
       "      <td>0</td>\n",
       "    </tr>\n",
       "    <tr>\n",
       "      <th>12</th>\n",
       "      <td>Tedorigawa “Yamahai Junmai”</td>\n",
       "      <td>15.5</td>\n",
       "      <td>1</td>\n",
       "      <td>Junmai</td>\n",
       "      <td>0</td>\n",
       "    </tr>\n",
       "    <tr>\n",
       "      <th>13</th>\n",
       "      <td>Dewazakura “Dewasansan”</td>\n",
       "      <td>15.5</td>\n",
       "      <td>2</td>\n",
       "      <td>Ginjo</td>\n",
       "      <td>0</td>\n",
       "    </tr>\n",
       "    <tr>\n",
       "      <th>14</th>\n",
       "      <td>Dewazakura “Izumi Judan”</td>\n",
       "      <td>17.5</td>\n",
       "      <td>1</td>\n",
       "      <td>Ginjo</td>\n",
       "      <td>0</td>\n",
       "    </tr>\n",
       "    <tr>\n",
       "      <th>15</th>\n",
       "      <td>Dewazakura “Oka”</td>\n",
       "      <td>15.5</td>\n",
       "      <td>6</td>\n",
       "      <td>Ginjo</td>\n",
       "      <td>0</td>\n",
       "    </tr>\n",
       "    <tr>\n",
       "      <th>16</th>\n",
       "      <td>Dewazakura “Omachi”</td>\n",
       "      <td>16.5</td>\n",
       "      <td>2</td>\n",
       "      <td>Ginjo</td>\n",
       "      <td>0</td>\n",
       "    </tr>\n",
       "    <tr>\n",
       "      <th>17</th>\n",
       "      <td>Kokuryu “Junmai Ginjo”</td>\n",
       "      <td>15.5</td>\n",
       "      <td>3</td>\n",
       "      <td>Ginjo</td>\n",
       "      <td>0</td>\n",
       "    </tr>\n",
       "    <tr>\n",
       "      <th>19</th>\n",
       "      <td>Koshi no Kanbai “Sai”</td>\n",
       "      <td>15.0</td>\n",
       "      <td>6</td>\n",
       "      <td>Ginjo</td>\n",
       "      <td>0</td>\n",
       "    </tr>\n",
       "    <tr>\n",
       "      <th>21</th>\n",
       "      <td>Nagurayama “Yokikana”</td>\n",
       "      <td>16.0</td>\n",
       "      <td>6</td>\n",
       "      <td>Ginjo</td>\n",
       "      <td>0</td>\n",
       "    </tr>\n",
       "    <tr>\n",
       "      <th>23</th>\n",
       "      <td>Sohomare “Junmai Ginjo”</td>\n",
       "      <td>15.0</td>\n",
       "      <td>6</td>\n",
       "      <td>Ginjo</td>\n",
       "      <td>0</td>\n",
       "    </tr>\n",
       "    <tr>\n",
       "      <th>24</th>\n",
       "      <td>Dewazakura “Namagenshu”</td>\n",
       "      <td>17.5</td>\n",
       "      <td>6</td>\n",
       "      <td>Ginjo</td>\n",
       "      <td>0</td>\n",
       "    </tr>\n",
       "    <tr>\n",
       "      <th>25</th>\n",
       "      <td>Kamoizumi “Red Maple”</td>\n",
       "      <td>18.0</td>\n",
       "      <td>5</td>\n",
       "      <td>Ginjo</td>\n",
       "      <td>0</td>\n",
       "    </tr>\n",
       "    <tr>\n",
       "      <th>26</th>\n",
       "      <td>Akitabare “Daiginjo”</td>\n",
       "      <td>15.0</td>\n",
       "      <td>7</td>\n",
       "      <td>Daigino</td>\n",
       "      <td>0</td>\n",
       "    </tr>\n",
       "    <tr>\n",
       "      <th>28</th>\n",
       "      <td>Dewazakura “Ichiro”</td>\n",
       "      <td>15.0</td>\n",
       "      <td>5</td>\n",
       "      <td>Daigino</td>\n",
       "      <td>0</td>\n",
       "    </tr>\n",
       "    <tr>\n",
       "      <th>29</th>\n",
       "      <td>Hoyo “Kura no Hana”</td>\n",
       "      <td>15.0</td>\n",
       "      <td>8</td>\n",
       "      <td>Daigino</td>\n",
       "      <td>0</td>\n",
       "    </tr>\n",
       "    <tr>\n",
       "      <th>30</th>\n",
       "      <td>Kamoizumi “Junmai Daiginjo”</td>\n",
       "      <td>16.0</td>\n",
       "      <td>7</td>\n",
       "      <td>Daigino</td>\n",
       "      <td>0</td>\n",
       "    </tr>\n",
       "    <tr>\n",
       "      <th>31</th>\n",
       "      <td>Kokuryu “Ryu”</td>\n",
       "      <td>15.0</td>\n",
       "      <td>8</td>\n",
       "      <td>Daigino</td>\n",
       "      <td>0</td>\n",
       "    </tr>\n",
       "    <tr>\n",
       "      <th>32</th>\n",
       "      <td>Koshi no Kanbai “Chotokusen”</td>\n",
       "      <td>16.0</td>\n",
       "      <td>5</td>\n",
       "      <td>Daigino</td>\n",
       "      <td>0</td>\n",
       "    </tr>\n",
       "    <tr>\n",
       "      <th>33</th>\n",
       "      <td>Koshi no Kanbai “Kinmuku”</td>\n",
       "      <td>16.0</td>\n",
       "      <td>4</td>\n",
       "      <td>Daigino</td>\n",
       "      <td>0</td>\n",
       "    </tr>\n",
       "    <tr>\n",
       "      <th>34</th>\n",
       "      <td>Koshi no Kanbai “Muku”</td>\n",
       "      <td>16.0</td>\n",
       "      <td>6</td>\n",
       "      <td>Daigino</td>\n",
       "      <td>0</td>\n",
       "    </tr>\n",
       "    <tr>\n",
       "      <th>35</th>\n",
       "      <td>Kuzuryu “Daiginjo”</td>\n",
       "      <td>15.0</td>\n",
       "      <td>5</td>\n",
       "      <td>Daigino</td>\n",
       "      <td>0</td>\n",
       "    </tr>\n",
       "    <tr>\n",
       "      <th>37</th>\n",
       "      <td>Masumi “Sanka”</td>\n",
       "      <td>15.0</td>\n",
       "      <td>7</td>\n",
       "      <td>Daigino</td>\n",
       "      <td>0</td>\n",
       "    </tr>\n",
       "    <tr>\n",
       "      <th>38</th>\n",
       "      <td>Masumi “Yumedono”</td>\n",
       "      <td>17.0</td>\n",
       "      <td>8</td>\n",
       "      <td>Daigino</td>\n",
       "      <td>0</td>\n",
       "    </tr>\n",
       "    <tr>\n",
       "      <th>40</th>\n",
       "      <td>Tedorigawa “Iki na Onna”</td>\n",
       "      <td>16.5</td>\n",
       "      <td>6</td>\n",
       "      <td>Daigino</td>\n",
       "      <td>0</td>\n",
       "    </tr>\n",
       "    <tr>\n",
       "      <th>41</th>\n",
       "      <td>Tedorigawa “Yamahai Daiginjo”</td>\n",
       "      <td>15.5</td>\n",
       "      <td>8</td>\n",
       "      <td>Daigino</td>\n",
       "      <td>0</td>\n",
       "    </tr>\n",
       "    <tr>\n",
       "      <th>42</th>\n",
       "      <td>Tedorigawa “Kinka”</td>\n",
       "      <td>16.5</td>\n",
       "      <td>6</td>\n",
       "      <td>Daigino</td>\n",
       "      <td>0</td>\n",
       "    </tr>\n",
       "    <tr>\n",
       "      <th>43</th>\n",
       "      <td>Tedorigawa “Tsuyusanzen”</td>\n",
       "      <td>15.5</td>\n",
       "      <td>8</td>\n",
       "      <td>Daigino</td>\n",
       "      <td>0</td>\n",
       "    </tr>\n",
       "    <tr>\n",
       "      <th>44</th>\n",
       "      <td>Akitabare “Shunsetsu”</td>\n",
       "      <td>14.0</td>\n",
       "      <td>2</td>\n",
       "      <td>Honjozo</td>\n",
       "      <td>0</td>\n",
       "    </tr>\n",
       "    <tr>\n",
       "      <th>45</th>\n",
       "      <td>Seitoku “Bessen</td>\n",
       "      <td>15.0</td>\n",
       "      <td>1</td>\n",
       "      <td>Futsushu</td>\n",
       "      <td>0</td>\n",
       "    </tr>\n",
       "  </tbody>\n",
       "</table>\n",
       "</div>"
      ],
      "text/plain": [
       "                             Name  Alcohol  Character     Class  Beverage\n",
       "1   Akitabare “Koshiki Junzukuri”     14.5          3    Junmai         0\n",
       "2                    Hoyo “Genji”     15.0          2    Junmai         0\n",
       "3          Hoyo “Sawayaka Junmai”     15.0          1    Junmai         0\n",
       "4              Kamoizumi “Shusen”     16.0          4    Junmai         0\n",
       "5                Kuzuryu “Junmai”     14.5          4    Junmai         0\n",
       "6      Masumi “Okuden Kantsukuri”     15.0          7    Junmai         0\n",
       "7      Miyasaka “Yawaraka Junmai”     12.0          6    Junmai         0\n",
       "8            Sohomare “Karakuchi”     15.0          1    Junmai         0\n",
       "9     Sohomare “Tokubetsu Kimoto”     15.0          5    Junmai         0\n",
       "11    Tamagawa “Tokubetsu Junmai”     16.5          5    Junmai         0\n",
       "12    Tedorigawa “Yamahai Junmai”     15.5          1    Junmai         0\n",
       "13        Dewazakura “Dewasansan”     15.5          2     Ginjo         0\n",
       "14       Dewazakura “Izumi Judan”     17.5          1     Ginjo         0\n",
       "15               Dewazakura “Oka”     15.5          6     Ginjo         0\n",
       "16            Dewazakura “Omachi”     16.5          2     Ginjo         0\n",
       "17         Kokuryu “Junmai Ginjo”     15.5          3     Ginjo         0\n",
       "19          Koshi no Kanbai “Sai”     15.0          6     Ginjo         0\n",
       "21          Nagurayama “Yokikana”     16.0          6     Ginjo         0\n",
       "23        Sohomare “Junmai Ginjo”     15.0          6     Ginjo         0\n",
       "24        Dewazakura “Namagenshu”     17.5          6     Ginjo         0\n",
       "25          Kamoizumi “Red Maple”     18.0          5     Ginjo         0\n",
       "26           Akitabare “Daiginjo”     15.0          7   Daigino         0\n",
       "28            Dewazakura “Ichiro”     15.0          5   Daigino         0\n",
       "29            Hoyo “Kura no Hana”     15.0          8   Daigino         0\n",
       "30    Kamoizumi “Junmai Daiginjo”     16.0          7   Daigino         0\n",
       "31                  Kokuryu “Ryu”     15.0          8   Daigino         0\n",
       "32   Koshi no Kanbai “Chotokusen”     16.0          5   Daigino         0\n",
       "33      Koshi no Kanbai “Kinmuku”     16.0          4   Daigino         0\n",
       "34         Koshi no Kanbai “Muku”     16.0          6   Daigino         0\n",
       "35             Kuzuryu “Daiginjo”     15.0          5   Daigino         0\n",
       "37                 Masumi “Sanka”     15.0          7   Daigino         0\n",
       "38              Masumi “Yumedono”     17.0          8   Daigino         0\n",
       "40       Tedorigawa “Iki na Onna”     16.5          6   Daigino         0\n",
       "41  Tedorigawa “Yamahai Daiginjo”     15.5          8   Daigino         0\n",
       "42             Tedorigawa “Kinka”     16.5          6   Daigino         0\n",
       "43       Tedorigawa “Tsuyusanzen”     15.5          8   Daigino         0\n",
       "44          Akitabare “Shunsetsu”     14.0          2   Honjozo         0\n",
       "45                Seitoku “Bessen     15.0          1  Futsushu         0"
      ]
     },
     "execution_count": 12,
     "metadata": {},
     "output_type": "execute_result"
    }
   ],
   "source": [
    "#Taking a look at the sake dataFrame\n",
    "\n",
    "df_sake"
   ]
  },
  {
   "cell_type": "code",
   "execution_count": 13,
   "metadata": {
    "ExecuteTime": {
     "end_time": "2022-05-03T22:50:48.242750Z",
     "start_time": "2022-05-03T22:50:48.231393Z"
    },
    "scrolled": true
   },
   "outputs": [],
   "source": [
    "# combining both sake dataFrame and wine dataFrame into a new dataFrame\n",
    "\n",
    "beverage_df = df_wine.append(df_sake)"
   ]
  },
  {
   "cell_type": "code",
   "execution_count": 14,
   "metadata": {
    "ExecuteTime": {
     "end_time": "2022-05-03T22:50:49.734078Z",
     "start_time": "2022-05-03T22:50:49.698259Z"
    }
   },
   "outputs": [
    {
     "data": {
      "text/html": [
       "<div>\n",
       "<style scoped>\n",
       "    .dataframe tbody tr th:only-of-type {\n",
       "        vertical-align: middle;\n",
       "    }\n",
       "\n",
       "    .dataframe tbody tr th {\n",
       "        vertical-align: top;\n",
       "    }\n",
       "\n",
       "    .dataframe thead th {\n",
       "        text-align: right;\n",
       "    }\n",
       "</style>\n",
       "<table border=\"1\" class=\"dataframe\">\n",
       "  <thead>\n",
       "    <tr style=\"text-align: right;\">\n",
       "      <th></th>\n",
       "      <th>Name</th>\n",
       "      <th>Alcohol</th>\n",
       "      <th>Character</th>\n",
       "      <th>Class</th>\n",
       "      <th>Beverage</th>\n",
       "    </tr>\n",
       "  </thead>\n",
       "  <tbody>\n",
       "    <tr>\n",
       "      <th>1</th>\n",
       "      <td>The Ned 'Waihopai River' Sauvignon Blanc 2020/21</td>\n",
       "      <td>13.0</td>\n",
       "      <td>1</td>\n",
       "      <td>Sauvignon Blanc</td>\n",
       "      <td>1</td>\n",
       "    </tr>\n",
       "    <tr>\n",
       "      <th>2</th>\n",
       "      <td>La Toledana Gavi di Gavi DOCG 2019/20</td>\n",
       "      <td>13.0</td>\n",
       "      <td>1</td>\n",
       "      <td>Gavi</td>\n",
       "      <td>1</td>\n",
       "    </tr>\n",
       "    <tr>\n",
       "      <th>3</th>\n",
       "      <td>Saintsbury Chardonnay 2018</td>\n",
       "      <td>13.5</td>\n",
       "      <td>1</td>\n",
       "      <td>Chardonnay</td>\n",
       "      <td>1</td>\n",
       "    </tr>\n",
       "    <tr>\n",
       "      <th>4</th>\n",
       "      <td>Domaine Fouassier 'La Garenne' Sancerre 2019/20</td>\n",
       "      <td>13.5</td>\n",
       "      <td>2</td>\n",
       "      <td>Sancerre</td>\n",
       "      <td>1</td>\n",
       "    </tr>\n",
       "    <tr>\n",
       "      <th>5</th>\n",
       "      <td>Martín Códax Albariño 2020</td>\n",
       "      <td>13.0</td>\n",
       "      <td>1</td>\n",
       "      <td>Albariño</td>\n",
       "      <td>1</td>\n",
       "    </tr>\n",
       "    <tr>\n",
       "      <th>...</th>\n",
       "      <td>...</td>\n",
       "      <td>...</td>\n",
       "      <td>...</td>\n",
       "      <td>...</td>\n",
       "      <td>...</td>\n",
       "    </tr>\n",
       "    <tr>\n",
       "      <th>41</th>\n",
       "      <td>Tedorigawa “Yamahai Daiginjo”</td>\n",
       "      <td>15.5</td>\n",
       "      <td>8</td>\n",
       "      <td>Daigino</td>\n",
       "      <td>0</td>\n",
       "    </tr>\n",
       "    <tr>\n",
       "      <th>42</th>\n",
       "      <td>Tedorigawa “Kinka”</td>\n",
       "      <td>16.5</td>\n",
       "      <td>6</td>\n",
       "      <td>Daigino</td>\n",
       "      <td>0</td>\n",
       "    </tr>\n",
       "    <tr>\n",
       "      <th>43</th>\n",
       "      <td>Tedorigawa “Tsuyusanzen”</td>\n",
       "      <td>15.5</td>\n",
       "      <td>8</td>\n",
       "      <td>Daigino</td>\n",
       "      <td>0</td>\n",
       "    </tr>\n",
       "    <tr>\n",
       "      <th>44</th>\n",
       "      <td>Akitabare “Shunsetsu”</td>\n",
       "      <td>14.0</td>\n",
       "      <td>2</td>\n",
       "      <td>Honjozo</td>\n",
       "      <td>0</td>\n",
       "    </tr>\n",
       "    <tr>\n",
       "      <th>45</th>\n",
       "      <td>Seitoku “Bessen</td>\n",
       "      <td>15.0</td>\n",
       "      <td>1</td>\n",
       "      <td>Futsushu</td>\n",
       "      <td>0</td>\n",
       "    </tr>\n",
       "  </tbody>\n",
       "</table>\n",
       "<p>789 rows × 5 columns</p>\n",
       "</div>"
      ],
      "text/plain": [
       "                                                Name  Alcohol  Character  \\\n",
       "1   The Ned 'Waihopai River' Sauvignon Blanc 2020/21     13.0          1   \n",
       "2              La Toledana Gavi di Gavi DOCG 2019/20     13.0          1   \n",
       "3                         Saintsbury Chardonnay 2018     13.5          1   \n",
       "4    Domaine Fouassier 'La Garenne' Sancerre 2019/20     13.5          2   \n",
       "5                         Martín Códax Albariño 2020     13.0          1   \n",
       "..                                               ...      ...        ...   \n",
       "41                     Tedorigawa “Yamahai Daiginjo”     15.5          8   \n",
       "42                                Tedorigawa “Kinka”     16.5          6   \n",
       "43                          Tedorigawa “Tsuyusanzen”     15.5          8   \n",
       "44                             Akitabare “Shunsetsu”     14.0          2   \n",
       "45                                   Seitoku “Bessen     15.0          1   \n",
       "\n",
       "              Class  Beverage  \n",
       "1   Sauvignon Blanc         1  \n",
       "2              Gavi         1  \n",
       "3        Chardonnay         1  \n",
       "4          Sancerre         1  \n",
       "5          Albariño         1  \n",
       "..              ...       ...  \n",
       "41          Daigino         0  \n",
       "42          Daigino         0  \n",
       "43          Daigino         0  \n",
       "44          Honjozo         0  \n",
       "45         Futsushu         0  \n",
       "\n",
       "[789 rows x 5 columns]"
      ]
     },
     "execution_count": 14,
     "metadata": {},
     "output_type": "execute_result"
    }
   ],
   "source": [
    "# Taking a look at the combined data\n",
    "\n",
    "beverage_df"
   ]
  },
  {
   "cell_type": "markdown",
   "metadata": {
    "heading_collapsed": true
   },
   "source": [
    "## Get Sake or Wine based on character"
   ]
  },
  {
   "cell_type": "code",
   "execution_count": null,
   "metadata": {
    "ExecuteTime": {
     "end_time": "2022-05-03T22:38:14.266503Z",
     "start_time": "2022-05-03T22:38:14.242644Z"
    },
    "hidden": true
   },
   "outputs": [],
   "source": [
    "df_wine['Class'].unique()"
   ]
  },
  {
   "cell_type": "code",
   "execution_count": null,
   "metadata": {
    "ExecuteTime": {
     "end_time": "2022-04-28T16:13:24.715503Z",
     "start_time": "2022-04-28T16:13:24.699912Z"
    },
    "hidden": true
   },
   "outputs": [],
   "source": [
    "# specifing the character dictionary\n",
    "character = {\n",
    "    1: 'very dry',\n",
    "    2: 'off dry',\n",
    "    3: 'dry medium',\n",
    "    4: 'medium dry',\n",
    "    5: 'medium',\n",
    "    6: 'medium sweet',\n",
    "    7: 'sweet',\n",
    "    8: 'very sweet'}"
   ]
  },
  {
   "cell_type": "code",
   "execution_count": null,
   "metadata": {
    "ExecuteTime": {
     "end_time": "2022-04-28T16:13:26.068339Z",
     "start_time": "2022-04-28T16:13:24.921197Z"
    },
    "hidden": true
   },
   "outputs": [],
   "source": [
    "# Gets user's specified sake\n",
    "\n",
    "def sake():\n",
    "    user_input = input(\"What sake do u want? \\n\") #Takes user input\n",
    "    answer = ''\n",
    "    for key, value in character.items():\n",
    "        if user_input == value: # checks user input against the value of the character dictionary\n",
    "            answer = df_sake.loc[df_sake['Character'] == key]\n",
    "        if df_sake['Class'].str.contains(user_input).any(): # returns sake based on Class spesified by user\n",
    "            answer = df_sake.loc[df_sake['Class'] == user_input].copy()\n",
    "            answer = answer['Name']\n",
    "    print (f'your sakes are: \\n {answer}')\n",
    "    \n",
    "# Gets user's specified wine\n",
    "\n",
    "def wine():\n",
    "    user_input = input(\"What Wine do u want? \") #Takes user input\n",
    "    answer = ''\n",
    "    for key, value in character.items():\n",
    "        if user_input == value: # checks user input against the value of the character dictionary\n",
    "            answer = df_wine.loc[df_wine['Character'] == key]\n",
    "        if df_wine['Class'].str.contains(user_input).any(): # returns sake based on Class spesified by user\n",
    "                answer = df_wine.loc[df_wine['Class'] == user_input].copy()\n",
    "                answer = answer['Name']\n",
    "    print (f'your wines are: \\n {answer}')\n",
    "\n",
    "ans = input('what beverage do you want? ')\n",
    "if ans == 'sake':\n",
    "    sake()\n",
    "elif ans == 'wine':\n",
    "    wine()\n",
    "else:\n",
    "    print('Sorry we only do sake or wine :(')"
   ]
  },
  {
   "cell_type": "markdown",
   "metadata": {},
   "source": [
    "## Data Visualization"
   ]
  },
  {
   "cell_type": "markdown",
   "metadata": {},
   "source": [
    "### WIne data where character of 1 is reduced"
   ]
  },
  {
   "cell_type": "code",
   "execution_count": 15,
   "metadata": {
    "ExecuteTime": {
     "end_time": "2022-05-03T22:50:52.624992Z",
     "start_time": "2022-05-03T22:50:51.860429Z"
    }
   },
   "outputs": [
    {
     "data": {
      "image/png": "[encoded data removed]",
      "text/plain": [
       "<Figure size 432x288 with 1 Axes>"
      ]
     },
     "metadata": {
      "needs_background": "light"
     },
     "output_type": "display_data"
    }
   ],
   "source": [
    "import matplotlib.pyplot as plt\n",
    "df_wine[df_wine.Character == 1][120:]\n",
    "d = df_wine[df_wine.Character == 1][450:]\n",
    "new_data = df_wine.copy()\n",
    "new_data = new_data[new_data.Character != 1]\n",
    "new_data = new_data.append(d)\n",
    "\n",
    "new_data[\"Character\"].hist(bins=15)\n",
    "plt.show()"
   ]
  },
  {
   "cell_type": "markdown",
   "metadata": {
    "ExecuteTime": {
     "end_time": "2022-02-11T10:00:50.154789Z",
     "start_time": "2022-02-11T10:00:50.151788Z"
    }
   },
   "source": [
    "###  WIne data where character of 1 is NOT reduced"
   ]
  },
  {
   "cell_type": "code",
   "execution_count": 16,
   "metadata": {
    "ExecuteTime": {
     "end_time": "2022-05-03T22:50:52.909834Z",
     "start_time": "2022-05-03T22:50:52.680512Z"
    }
   },
   "outputs": [
    {
     "data": {
      "image/png": "[encoded data removed]",
      "text/plain": [
       "<Figure size 432x288 with 1 Axes>"
      ]
     },
     "metadata": {
      "needs_background": "light"
     },
     "output_type": "display_data"
    }
   ],
   "source": [
    "df_wine[\"Character\"].hist(bins=15)\n",
    "plt.show()"
   ]
  },
  {
   "cell_type": "markdown",
   "metadata": {},
   "source": [
    "### Sake character data"
   ]
  },
  {
   "cell_type": "code",
   "execution_count": 17,
   "metadata": {
    "ExecuteTime": {
     "end_time": "2022-05-03T22:50:53.771489Z",
     "start_time": "2022-05-03T22:50:53.568687Z"
    }
   },
   "outputs": [
    {
     "data": {
      "image/png": "[encoded data removed]",
      "text/plain": [
       "<Figure size 432x288 with 1 Axes>"
      ]
     },
     "metadata": {
      "needs_background": "light"
     },
     "output_type": "display_data"
    }
   ],
   "source": [
    "df_sake[\"Character\"].hist(bins=15)\n",
    "plt.show()"
   ]
  },
  {
   "cell_type": "markdown",
   "metadata": {},
   "source": [
    "### WIne data where character of 1 is reduced and merged with Sake"
   ]
  },
  {
   "cell_type": "code",
   "execution_count": 18,
   "metadata": {
    "ExecuteTime": {
     "end_time": "2022-05-03T22:50:54.791449Z",
     "start_time": "2022-05-03T22:50:54.568470Z"
    }
   },
   "outputs": [
    {
     "data": {
      "image/png": "[encoded data removed]",
      "text/plain": [
       "<Figure size 432x288 with 1 Axes>"
      ]
     },
     "metadata": {
      "needs_background": "light"
     },
     "output_type": "display_data"
    }
   ],
   "source": [
    "new_beverage_data = new_data.append(df_sake)\n",
    "new_beverage_data[\"Character\"].hist(bins=15)\n",
    "plt.show()"
   ]
  },
  {
   "cell_type": "code",
   "execution_count": 19,
   "metadata": {
    "ExecuteTime": {
     "end_time": "2022-05-03T22:50:54.958097Z",
     "start_time": "2022-05-03T22:50:54.924821Z"
    }
   },
   "outputs": [
    {
     "data": {
      "text/html": [
       "<div>\n",
       "<style scoped>\n",
       "    .dataframe tbody tr th:only-of-type {\n",
       "        vertical-align: middle;\n",
       "    }\n",
       "\n",
       "    .dataframe tbody tr th {\n",
       "        vertical-align: top;\n",
       "    }\n",
       "\n",
       "    .dataframe thead th {\n",
       "        text-align: right;\n",
       "    }\n",
       "</style>\n",
       "<table border=\"1\" class=\"dataframe\">\n",
       "  <thead>\n",
       "    <tr style=\"text-align: right;\">\n",
       "      <th></th>\n",
       "      <th>Name</th>\n",
       "      <th>Alcohol</th>\n",
       "      <th>Character</th>\n",
       "      <th>Class</th>\n",
       "      <th>Beverage</th>\n",
       "    </tr>\n",
       "  </thead>\n",
       "  <tbody>\n",
       "    <tr>\n",
       "      <th>4</th>\n",
       "      <td>Domaine Fouassier 'La Garenne' Sancerre 2019/20</td>\n",
       "      <td>13.5</td>\n",
       "      <td>2</td>\n",
       "      <td>Sancerre</td>\n",
       "      <td>1</td>\n",
       "    </tr>\n",
       "    <tr>\n",
       "      <th>7</th>\n",
       "      <td>Bread and Butter Chardonnay 2019/20</td>\n",
       "      <td>13.5</td>\n",
       "      <td>2</td>\n",
       "      <td>Chardonnay</td>\n",
       "      <td>1</td>\n",
       "    </tr>\n",
       "    <tr>\n",
       "      <th>14</th>\n",
       "      <td>Ancient Lakes 'Eight Thousand Lakes' Riesling ...</td>\n",
       "      <td>11.5</td>\n",
       "      <td>3</td>\n",
       "      <td>Riesling</td>\n",
       "      <td>1</td>\n",
       "    </tr>\n",
       "    <tr>\n",
       "      <th>16</th>\n",
       "      <td>Pringle Bay Sauvignon Blanc 2021</td>\n",
       "      <td>12.5</td>\n",
       "      <td>2</td>\n",
       "      <td>Sauvignon Blanc</td>\n",
       "      <td>1</td>\n",
       "    </tr>\n",
       "    <tr>\n",
       "      <th>21</th>\n",
       "      <td>Boekenhoutskloof 'Vintager' Sauvignon Blanc 2021</td>\n",
       "      <td>12.5</td>\n",
       "      <td>2</td>\n",
       "      <td>Sauvignon Blanc</td>\n",
       "      <td>1</td>\n",
       "    </tr>\n",
       "    <tr>\n",
       "      <th>...</th>\n",
       "      <td>...</td>\n",
       "      <td>...</td>\n",
       "      <td>...</td>\n",
       "      <td>...</td>\n",
       "      <td>...</td>\n",
       "    </tr>\n",
       "    <tr>\n",
       "      <th>41</th>\n",
       "      <td>Tedorigawa “Yamahai Daiginjo”</td>\n",
       "      <td>15.5</td>\n",
       "      <td>8</td>\n",
       "      <td>Daigino</td>\n",
       "      <td>0</td>\n",
       "    </tr>\n",
       "    <tr>\n",
       "      <th>42</th>\n",
       "      <td>Tedorigawa “Kinka”</td>\n",
       "      <td>16.5</td>\n",
       "      <td>6</td>\n",
       "      <td>Daigino</td>\n",
       "      <td>0</td>\n",
       "    </tr>\n",
       "    <tr>\n",
       "      <th>43</th>\n",
       "      <td>Tedorigawa “Tsuyusanzen”</td>\n",
       "      <td>15.5</td>\n",
       "      <td>8</td>\n",
       "      <td>Daigino</td>\n",
       "      <td>0</td>\n",
       "    </tr>\n",
       "    <tr>\n",
       "      <th>44</th>\n",
       "      <td>Akitabare “Shunsetsu”</td>\n",
       "      <td>14.0</td>\n",
       "      <td>2</td>\n",
       "      <td>Honjozo</td>\n",
       "      <td>0</td>\n",
       "    </tr>\n",
       "    <tr>\n",
       "      <th>45</th>\n",
       "      <td>Seitoku “Bessen</td>\n",
       "      <td>15.0</td>\n",
       "      <td>1</td>\n",
       "      <td>Futsushu</td>\n",
       "      <td>0</td>\n",
       "    </tr>\n",
       "  </tbody>\n",
       "</table>\n",
       "<p>339 rows × 5 columns</p>\n",
       "</div>"
      ],
      "text/plain": [
       "                                                 Name  Alcohol  Character  \\\n",
       "4     Domaine Fouassier 'La Garenne' Sancerre 2019/20     13.5          2   \n",
       "7                 Bread and Butter Chardonnay 2019/20     13.5          2   \n",
       "14  Ancient Lakes 'Eight Thousand Lakes' Riesling ...     11.5          3   \n",
       "16                   Pringle Bay Sauvignon Blanc 2021     12.5          2   \n",
       "21   Boekenhoutskloof 'Vintager' Sauvignon Blanc 2021     12.5          2   \n",
       "..                                                ...      ...        ...   \n",
       "41                      Tedorigawa “Yamahai Daiginjo”     15.5          8   \n",
       "42                                 Tedorigawa “Kinka”     16.5          6   \n",
       "43                           Tedorigawa “Tsuyusanzen”     15.5          8   \n",
       "44                              Akitabare “Shunsetsu”     14.0          2   \n",
       "45                                    Seitoku “Bessen     15.0          1   \n",
       "\n",
       "              Class  Beverage  \n",
       "4          Sancerre         1  \n",
       "7        Chardonnay         1  \n",
       "14         Riesling         1  \n",
       "16  Sauvignon Blanc         1  \n",
       "21  Sauvignon Blanc         1  \n",
       "..              ...       ...  \n",
       "41          Daigino         0  \n",
       "42          Daigino         0  \n",
       "43          Daigino         0  \n",
       "44          Honjozo         0  \n",
       "45         Futsushu         0  \n",
       "\n",
       "[339 rows x 5 columns]"
      ]
     },
     "execution_count": 19,
     "metadata": {},
     "output_type": "execute_result"
    }
   ],
   "source": [
    "new_beverage_data"
   ]
  },
  {
   "cell_type": "markdown",
   "metadata": {},
   "source": [
    "## Clustering Model"
   ]
  },
  {
   "cell_type": "code",
   "execution_count": 20,
   "metadata": {
    "ExecuteTime": {
     "end_time": "2022-05-03T22:50:58.279509Z",
     "start_time": "2022-05-03T22:50:58.127372Z"
    }
   },
   "outputs": [],
   "source": [
    "import seaborn as sns\n",
    "%matplotlib inline"
   ]
  },
  {
   "cell_type": "code",
   "execution_count": 21,
   "metadata": {
    "ExecuteTime": {
     "end_time": "2022-05-03T22:50:59.310656Z",
     "start_time": "2022-05-03T22:50:58.310789Z"
    }
   },
   "outputs": [],
   "source": [
    "import statsmodels.api as sm\n",
    "import matplotlib.pyplot as plt\n",
    "import seaborn as sns\n",
    "sns.set()\n",
    "from sklearn.cluster import KMeans"
   ]
  },
  {
   "cell_type": "code",
   "execution_count": 22,
   "metadata": {
    "ExecuteTime": {
     "end_time": "2022-05-03T22:50:59.319601Z",
     "start_time": "2022-05-03T22:50:59.314118Z"
    }
   },
   "outputs": [
    {
     "data": {
      "text/plain": [
       "True"
      ]
     },
     "execution_count": 22,
     "metadata": {},
     "output_type": "execute_result"
    }
   ],
   "source": [
    "np.isfinite(new_beverage_data['Alcohol'].any())"
   ]
  },
  {
   "cell_type": "code",
   "execution_count": 23,
   "metadata": {
    "ExecuteTime": {
     "end_time": "2022-05-03T22:50:59.981842Z",
     "start_time": "2022-05-03T22:50:59.321993Z"
    }
   },
   "outputs": [],
   "source": [
    "#Creating an elbow method to determin number of clusters\n",
    "\n",
    "distortions = []\n",
    "K = range(1,10)\n",
    "for k in K:\n",
    "    kmeanModel = KMeans(n_clusters=k)\n",
    "    kmeanModel.fit(new_beverage_data[['Alcohol', 'Character']])\n",
    "    distortions.append(kmeanModel.inertia_)"
   ]
  },
  {
   "cell_type": "code",
   "execution_count": 24,
   "metadata": {
    "ExecuteTime": {
     "end_time": "2022-05-03T22:51:00.290534Z",
     "start_time": "2022-05-03T22:50:59.981842Z"
    }
   },
   "outputs": [
    {
     "data": {
      "image/png": "[encoded data removed]",
      "text/plain": [
       "<Figure size 1152x576 with 1 Axes>"
      ]
     },
     "metadata": {},
     "output_type": "display_data"
    }
   ],
   "source": [
    "plt.figure(figsize=(16,8))\n",
    "plt.plot(K, distortions, 'bx-')\n",
    "plt.xlabel('k')\n",
    "plt.ylabel('Distortion')\n",
    "plt.title('The Elbow Method showing the optimal k')\n",
    "plt.show()"
   ]
  },
  {
   "cell_type": "code",
   "execution_count": 25,
   "metadata": {
    "ExecuteTime": {
     "end_time": "2022-05-03T22:51:00.314327Z",
     "start_time": "2022-05-03T22:51:00.290534Z"
    }
   },
   "outputs": [
    {
     "data": {
      "text/html": [
       "<div>\n",
       "<style scoped>\n",
       "    .dataframe tbody tr th:only-of-type {\n",
       "        vertical-align: middle;\n",
       "    }\n",
       "\n",
       "    .dataframe tbody tr th {\n",
       "        vertical-align: top;\n",
       "    }\n",
       "\n",
       "    .dataframe thead th {\n",
       "        text-align: right;\n",
       "    }\n",
       "</style>\n",
       "<table border=\"1\" class=\"dataframe\">\n",
       "  <thead>\n",
       "    <tr style=\"text-align: right;\">\n",
       "      <th></th>\n",
       "      <th>Alcohol</th>\n",
       "      <th>Character</th>\n",
       "    </tr>\n",
       "  </thead>\n",
       "  <tbody>\n",
       "    <tr>\n",
       "      <th>4</th>\n",
       "      <td>13.5</td>\n",
       "      <td>2</td>\n",
       "    </tr>\n",
       "    <tr>\n",
       "      <th>7</th>\n",
       "      <td>13.5</td>\n",
       "      <td>2</td>\n",
       "    </tr>\n",
       "    <tr>\n",
       "      <th>14</th>\n",
       "      <td>11.5</td>\n",
       "      <td>3</td>\n",
       "    </tr>\n",
       "    <tr>\n",
       "      <th>16</th>\n",
       "      <td>12.5</td>\n",
       "      <td>2</td>\n",
       "    </tr>\n",
       "    <tr>\n",
       "      <th>21</th>\n",
       "      <td>12.5</td>\n",
       "      <td>2</td>\n",
       "    </tr>\n",
       "    <tr>\n",
       "      <th>...</th>\n",
       "      <td>...</td>\n",
       "      <td>...</td>\n",
       "    </tr>\n",
       "    <tr>\n",
       "      <th>41</th>\n",
       "      <td>15.5</td>\n",
       "      <td>8</td>\n",
       "    </tr>\n",
       "    <tr>\n",
       "      <th>42</th>\n",
       "      <td>16.5</td>\n",
       "      <td>6</td>\n",
       "    </tr>\n",
       "    <tr>\n",
       "      <th>43</th>\n",
       "      <td>15.5</td>\n",
       "      <td>8</td>\n",
       "    </tr>\n",
       "    <tr>\n",
       "      <th>44</th>\n",
       "      <td>14.0</td>\n",
       "      <td>2</td>\n",
       "    </tr>\n",
       "    <tr>\n",
       "      <th>45</th>\n",
       "      <td>15.0</td>\n",
       "      <td>1</td>\n",
       "    </tr>\n",
       "  </tbody>\n",
       "</table>\n",
       "<p>339 rows × 2 columns</p>\n",
       "</div>"
      ],
      "text/plain": [
       "    Alcohol  Character\n",
       "4      13.5          2\n",
       "7      13.5          2\n",
       "14     11.5          3\n",
       "16     12.5          2\n",
       "21     12.5          2\n",
       "..      ...        ...\n",
       "41     15.5          8\n",
       "42     16.5          6\n",
       "43     15.5          8\n",
       "44     14.0          2\n",
       "45     15.0          1\n",
       "\n",
       "[339 rows x 2 columns]"
      ]
     },
     "execution_count": 25,
     "metadata": {},
     "output_type": "execute_result"
    }
   ],
   "source": [
    "# Looking at only Alchohol and Character values\n",
    "# this data frame will be used to create clusters\n",
    "sample = new_beverage_data[['Alcohol', 'Character']]\n",
    "sample"
   ]
  },
  {
   "cell_type": "code",
   "execution_count": 26,
   "metadata": {
    "ExecuteTime": {
     "end_time": "2022-05-03T22:51:01.218790Z",
     "start_time": "2022-05-03T22:51:00.964071Z"
    }
   },
   "outputs": [
    {
     "data": {
      "image/png": "[encoded data removed]",
      "text/plain": [
       "<Figure size 432x288 with 1 Axes>"
      ]
     },
     "metadata": {},
     "output_type": "display_data"
    }
   ],
   "source": [
    "plt.scatter(sample['Alcohol'], sample['Character'])\n",
    "\n",
    "plt.show()"
   ]
  },
  {
   "cell_type": "code",
   "execution_count": 27,
   "metadata": {
    "ExecuteTime": {
     "end_time": "2022-05-03T22:51:03.015857Z",
     "start_time": "2022-05-03T22:51:02.948178Z"
    }
   },
   "outputs": [
    {
     "data": {
      "text/plain": [
       "KMeans(n_clusters=4)"
      ]
     },
     "execution_count": 27,
     "metadata": {},
     "output_type": "execute_result"
    }
   ],
   "source": [
    "kmeans = KMeans(4) #choosing 4 clusters for best output and data score\n",
    "kmeans.fit(sample)"
   ]
  },
  {
   "cell_type": "code",
   "execution_count": 28,
   "metadata": {
    "ExecuteTime": {
     "end_time": "2022-05-03T22:51:04.411952Z",
     "start_time": "2022-05-03T22:51:04.350293Z"
    }
   },
   "outputs": [
    {
     "data": {
      "text/plain": [
       "array([0, 0, 0, 0, 0, 1, 1, 1, 2, 0, 3, 0, 0, 0, 0, 0, 0, 0, 0, 0, 3, 1,\n",
       "       2, 0, 0, 0, 0, 0, 0, 0, 1, 1, 0, 0, 1, 0, 0, 0, 0, 0, 0, 0, 2, 0,\n",
       "       0, 2, 2, 3, 0, 3, 3, 0, 0, 0, 0, 1, 2, 2, 3, 0, 2, 2, 0, 0, 0, 0,\n",
       "       3, 0, 3, 0, 3, 0, 0, 0, 0, 0, 0, 1, 1, 1, 1, 3, 3, 3, 0, 0, 0, 0,\n",
       "       0, 0, 0, 0, 3, 2, 0, 0, 0, 1, 0, 1, 0, 0, 3, 1, 3, 0, 1, 1, 1, 1,\n",
       "       1, 1, 1, 1, 1, 1, 1, 1, 1, 1, 1, 1, 1, 1, 1, 1, 1, 1, 1, 1, 1, 1,\n",
       "       1, 1, 1, 1, 1, 1, 1, 1, 1, 1, 1, 1, 1, 1, 1, 1, 1, 1, 1, 1, 1, 1,\n",
       "       1, 1, 1, 1, 1, 1, 1, 1, 1, 1, 0, 0, 0, 0, 0, 0, 0, 0, 0, 0, 0, 0,\n",
       "       0, 0, 0, 0, 0, 0, 0, 0, 0, 0, 0, 0, 0, 0, 0, 0, 0, 0, 0, 0, 0, 0,\n",
       "       0, 0, 0, 0, 0, 0, 0, 0, 0, 0, 0, 0, 0, 0, 0, 0, 0, 0, 0, 0, 0, 0,\n",
       "       0, 0, 0, 0, 0, 0, 0, 0, 0, 0, 0, 0, 0, 0, 0, 0, 0, 0, 0, 0, 0, 0,\n",
       "       0, 0, 0, 0, 0, 0, 0, 0, 0, 0, 0, 0, 0, 0, 0, 0, 0, 0, 0, 0, 0, 0,\n",
       "       0, 0, 0, 0, 0, 0, 0, 0, 0, 0, 0, 0, 0, 0, 0, 0, 0, 0, 0, 0, 0, 0,\n",
       "       0, 0, 0, 0, 0, 0, 0, 0, 0, 0, 0, 0, 0, 0, 0, 0, 0, 0, 2, 1, 2, 1,\n",
       "       0, 2, 2, 0, 0, 0, 2, 0, 0, 2, 2, 2, 2, 2, 2, 2, 2, 2, 2, 2, 2, 2,\n",
       "       2, 2, 2, 2, 2, 2, 2, 0, 0])"
      ]
     },
     "execution_count": 28,
     "metadata": {},
     "output_type": "execute_result"
    }
   ],
   "source": [
    "identified_clusters = kmeans.fit_predict(sample)\n",
    "identified_clusters"
   ]
  },
  {
   "cell_type": "code",
   "execution_count": 29,
   "metadata": {
    "ExecuteTime": {
     "end_time": "2022-05-03T22:51:05.765292Z",
     "start_time": "2022-05-03T22:51:05.517022Z"
    }
   },
   "outputs": [
    {
     "data": {
      "text/plain": [
       "<matplotlib.collections.PathCollection at 0x2c317a71af0>"
      ]
     },
     "execution_count": 29,
     "metadata": {},
     "output_type": "execute_result"
    },
    {
     "data": {
      "image/png": "[encoded data removed]",
      "text/plain": [
       "<Figure size 432x288 with 1 Axes>"
      ]
     },
     "metadata": {},
     "output_type": "display_data"
    }
   ],
   "source": [
    "data_with_clusters = new_beverage_data.copy()\n",
    "data_with_clusters['Clusters'] = identified_clusters \n",
    "\n",
    "plt.scatter(data_with_clusters['Alcohol'],data_with_clusters['Character'],c=data_with_clusters['Clusters'],cmap='rainbow')"
   ]
  },
  {
   "cell_type": "code",
   "execution_count": 30,
   "metadata": {
    "ExecuteTime": {
     "end_time": "2022-05-03T22:51:08.280481Z",
     "start_time": "2022-05-03T22:51:08.264146Z"
    }
   },
   "outputs": [],
   "source": [
    "# saving the data as a csv for later use\n",
    "data_with_clusters.to_csv('clusters_final.csv', index=False)"
   ]
  },
  {
   "cell_type": "markdown",
   "metadata": {},
   "source": [
    "## KNN Model"
   ]
  },
  {
   "cell_type": "code",
   "execution_count": 31,
   "metadata": {
    "ExecuteTime": {
     "end_time": "2022-05-03T22:51:10.256886Z",
     "start_time": "2022-05-03T22:51:10.223871Z"
    }
   },
   "outputs": [],
   "source": [
    "knn_data = pd.read_csv('./clusters_final.csv') #Importing data I obtained previously"
   ]
  },
  {
   "cell_type": "code",
   "execution_count": 32,
   "metadata": {
    "ExecuteTime": {
     "end_time": "2022-05-03T22:51:18.148976Z",
     "start_time": "2022-05-03T22:51:18.137992Z"
    }
   },
   "outputs": [],
   "source": [
    "# Drop all Null values in this dataFrame\n",
    "knn_data.dropna(subset = ['Class'], inplace=True)"
   ]
  },
  {
   "cell_type": "code",
   "execution_count": 33,
   "metadata": {
    "ExecuteTime": {
     "end_time": "2022-05-03T22:51:19.958343Z",
     "start_time": "2022-05-03T22:51:19.927024Z"
    }
   },
   "outputs": [
    {
     "data": {
      "text/html": [
       "<div>\n",
       "<style scoped>\n",
       "    .dataframe tbody tr th:only-of-type {\n",
       "        vertical-align: middle;\n",
       "    }\n",
       "\n",
       "    .dataframe tbody tr th {\n",
       "        vertical-align: top;\n",
       "    }\n",
       "\n",
       "    .dataframe thead th {\n",
       "        text-align: right;\n",
       "    }\n",
       "</style>\n",
       "<table border=\"1\" class=\"dataframe\">\n",
       "  <thead>\n",
       "    <tr style=\"text-align: right;\">\n",
       "      <th></th>\n",
       "      <th>Name</th>\n",
       "      <th>Alcohol</th>\n",
       "      <th>Character</th>\n",
       "      <th>Class</th>\n",
       "      <th>Beverage</th>\n",
       "      <th>Clusters</th>\n",
       "    </tr>\n",
       "  </thead>\n",
       "  <tbody>\n",
       "    <tr>\n",
       "      <th>0</th>\n",
       "      <td>Domaine Fouassier 'La Garenne' Sancerre 2019/20</td>\n",
       "      <td>13.5</td>\n",
       "      <td>2</td>\n",
       "      <td>Sancerre</td>\n",
       "      <td>1</td>\n",
       "      <td>0</td>\n",
       "    </tr>\n",
       "    <tr>\n",
       "      <th>1</th>\n",
       "      <td>Bread and Butter Chardonnay 2019/20</td>\n",
       "      <td>13.5</td>\n",
       "      <td>2</td>\n",
       "      <td>Chardonnay</td>\n",
       "      <td>1</td>\n",
       "      <td>0</td>\n",
       "    </tr>\n",
       "    <tr>\n",
       "      <th>2</th>\n",
       "      <td>Ancient Lakes 'Eight Thousand Lakes' Riesling ...</td>\n",
       "      <td>11.5</td>\n",
       "      <td>3</td>\n",
       "      <td>Riesling</td>\n",
       "      <td>1</td>\n",
       "      <td>0</td>\n",
       "    </tr>\n",
       "    <tr>\n",
       "      <th>3</th>\n",
       "      <td>Pringle Bay Sauvignon Blanc 2021</td>\n",
       "      <td>12.5</td>\n",
       "      <td>2</td>\n",
       "      <td>Sauvignon Blanc</td>\n",
       "      <td>1</td>\n",
       "      <td>0</td>\n",
       "    </tr>\n",
       "    <tr>\n",
       "      <th>4</th>\n",
       "      <td>Boekenhoutskloof 'Vintager' Sauvignon Blanc 2021</td>\n",
       "      <td>12.5</td>\n",
       "      <td>2</td>\n",
       "      <td>Sauvignon Blanc</td>\n",
       "      <td>1</td>\n",
       "      <td>0</td>\n",
       "    </tr>\n",
       "    <tr>\n",
       "      <th>...</th>\n",
       "      <td>...</td>\n",
       "      <td>...</td>\n",
       "      <td>...</td>\n",
       "      <td>...</td>\n",
       "      <td>...</td>\n",
       "      <td>...</td>\n",
       "    </tr>\n",
       "    <tr>\n",
       "      <th>334</th>\n",
       "      <td>Tedorigawa “Yamahai Daiginjo”</td>\n",
       "      <td>15.5</td>\n",
       "      <td>8</td>\n",
       "      <td>Daigino</td>\n",
       "      <td>0</td>\n",
       "      <td>2</td>\n",
       "    </tr>\n",
       "    <tr>\n",
       "      <th>335</th>\n",
       "      <td>Tedorigawa “Kinka”</td>\n",
       "      <td>16.5</td>\n",
       "      <td>6</td>\n",
       "      <td>Daigino</td>\n",
       "      <td>0</td>\n",
       "      <td>2</td>\n",
       "    </tr>\n",
       "    <tr>\n",
       "      <th>336</th>\n",
       "      <td>Tedorigawa “Tsuyusanzen”</td>\n",
       "      <td>15.5</td>\n",
       "      <td>8</td>\n",
       "      <td>Daigino</td>\n",
       "      <td>0</td>\n",
       "      <td>2</td>\n",
       "    </tr>\n",
       "    <tr>\n",
       "      <th>337</th>\n",
       "      <td>Akitabare “Shunsetsu”</td>\n",
       "      <td>14.0</td>\n",
       "      <td>2</td>\n",
       "      <td>Honjozo</td>\n",
       "      <td>0</td>\n",
       "      <td>0</td>\n",
       "    </tr>\n",
       "    <tr>\n",
       "      <th>338</th>\n",
       "      <td>Seitoku “Bessen</td>\n",
       "      <td>15.0</td>\n",
       "      <td>1</td>\n",
       "      <td>Futsushu</td>\n",
       "      <td>0</td>\n",
       "      <td>0</td>\n",
       "    </tr>\n",
       "  </tbody>\n",
       "</table>\n",
       "<p>211 rows × 6 columns</p>\n",
       "</div>"
      ],
      "text/plain": [
       "                                                  Name  Alcohol  Character  \\\n",
       "0      Domaine Fouassier 'La Garenne' Sancerre 2019/20     13.5          2   \n",
       "1                  Bread and Butter Chardonnay 2019/20     13.5          2   \n",
       "2    Ancient Lakes 'Eight Thousand Lakes' Riesling ...     11.5          3   \n",
       "3                     Pringle Bay Sauvignon Blanc 2021     12.5          2   \n",
       "4     Boekenhoutskloof 'Vintager' Sauvignon Blanc 2021     12.5          2   \n",
       "..                                                 ...      ...        ...   \n",
       "334                      Tedorigawa “Yamahai Daiginjo”     15.5          8   \n",
       "335                                 Tedorigawa “Kinka”     16.5          6   \n",
       "336                           Tedorigawa “Tsuyusanzen”     15.5          8   \n",
       "337                              Akitabare “Shunsetsu”     14.0          2   \n",
       "338                                    Seitoku “Bessen     15.0          1   \n",
       "\n",
       "               Class  Beverage  Clusters  \n",
       "0           Sancerre         1         0  \n",
       "1         Chardonnay         1         0  \n",
       "2           Riesling         1         0  \n",
       "3    Sauvignon Blanc         1         0  \n",
       "4    Sauvignon Blanc         1         0  \n",
       "..               ...       ...       ...  \n",
       "334          Daigino         0         2  \n",
       "335          Daigino         0         2  \n",
       "336          Daigino         0         2  \n",
       "337          Honjozo         0         0  \n",
       "338         Futsushu         0         0  \n",
       "\n",
       "[211 rows x 6 columns]"
      ]
     },
     "execution_count": 33,
     "metadata": {},
     "output_type": "execute_result"
    }
   ],
   "source": [
    "# Taking a look at the data\n",
    "knn_data"
   ]
  },
  {
   "cell_type": "code",
   "execution_count": 34,
   "metadata": {
    "ExecuteTime": {
     "end_time": "2022-05-03T22:51:28.073787Z",
     "start_time": "2022-05-03T22:51:28.066199Z"
    }
   },
   "outputs": [],
   "source": [
    "x = knn_data[['Alcohol', 'Character']]\n",
    "y = knn_data['Clusters']"
   ]
  },
  {
   "cell_type": "code",
   "execution_count": 35,
   "metadata": {
    "ExecuteTime": {
     "end_time": "2022-05-03T22:51:28.564832Z",
     "start_time": "2022-05-03T22:51:28.546209Z"
    }
   },
   "outputs": [
    {
     "data": {
      "text/plain": [
       "(211, 2)"
      ]
     },
     "execution_count": 35,
     "metadata": {},
     "output_type": "execute_result"
    }
   ],
   "source": [
    "x.shape"
   ]
  },
  {
   "cell_type": "code",
   "execution_count": 36,
   "metadata": {
    "ExecuteTime": {
     "end_time": "2022-05-03T22:51:29.071891Z",
     "start_time": "2022-05-03T22:51:29.048146Z"
    }
   },
   "outputs": [
    {
     "data": {
      "text/plain": [
       "(211,)"
      ]
     },
     "execution_count": 36,
     "metadata": {},
     "output_type": "execute_result"
    }
   ],
   "source": [
    "y.shape"
   ]
  },
  {
   "cell_type": "code",
   "execution_count": 37,
   "metadata": {
    "ExecuteTime": {
     "end_time": "2022-05-03T22:51:52.702659Z",
     "start_time": "2022-05-03T22:51:52.686620Z"
    }
   },
   "outputs": [],
   "source": [
    "from sklearn.model_selection import train_test_split \n",
    "from sklearn.neighbors import KNeighborsClassifier\n",
    "from sklearn.preprocessing import StandardScaler\n",
    "x_train, x_test, y_train, y_test = train_test_split(x, y, test_size=0.30)\n",
    "# using 30% of the data to test with"
   ]
  },
  {
   "cell_type": "code",
   "execution_count": 38,
   "metadata": {
    "ExecuteTime": {
     "end_time": "2022-05-03T22:51:53.974871Z",
     "start_time": "2022-05-03T22:51:53.968157Z"
    }
   },
   "outputs": [],
   "source": [
    "# scaler = StandardScaler()\n",
    "# scaler.fit(x_train)\n",
    "# x_train = scaler.transform(x_train)\n",
    "# x_test = scaler.transform(x_test)"
   ]
  },
  {
   "cell_type": "code",
   "execution_count": 39,
   "metadata": {
    "ExecuteTime": {
     "end_time": "2022-05-03T22:51:54.690402Z",
     "start_time": "2022-05-03T22:51:54.677203Z"
    },
    "scrolled": true
   },
   "outputs": [
    {
     "data": {
      "text/plain": [
       "KNeighborsClassifier()"
      ]
     },
     "execution_count": 39,
     "metadata": {},
     "output_type": "execute_result"
    }
   ],
   "source": [
    "knn = KNeighborsClassifier(n_neighbors=5)\n",
    "knn.fit(x_train, y_train.values.ravel())"
   ]
  },
  {
   "cell_type": "code",
   "execution_count": 40,
   "metadata": {
    "ExecuteTime": {
     "end_time": "2022-05-03T22:51:56.071788Z",
     "start_time": "2022-05-03T22:51:56.031090Z"
    }
   },
   "outputs": [
    {
     "name": "stdout",
     "output_type": "stream",
     "text": [
      "accuracy:  0.984375\n"
     ]
    }
   ],
   "source": [
    "# Getting the accuracy of the model\n",
    "\n",
    "y_pred = knn.predict(x_test)\n",
    "print('accuracy: ', knn.score(x_test, y_test))"
   ]
  },
  {
   "cell_type": "code",
   "execution_count": 41,
   "metadata": {
    "ExecuteTime": {
     "end_time": "2022-05-03T22:51:56.687872Z",
     "start_time": "2022-05-03T22:51:56.664267Z"
    }
   },
   "outputs": [
    {
     "data": {
      "text/html": [
       "<div>\n",
       "<style scoped>\n",
       "    .dataframe tbody tr th:only-of-type {\n",
       "        vertical-align: middle;\n",
       "    }\n",
       "\n",
       "    .dataframe tbody tr th {\n",
       "        vertical-align: top;\n",
       "    }\n",
       "\n",
       "    .dataframe thead th {\n",
       "        text-align: right;\n",
       "    }\n",
       "</style>\n",
       "<table border=\"1\" class=\"dataframe\">\n",
       "  <thead>\n",
       "    <tr style=\"text-align: right;\">\n",
       "      <th></th>\n",
       "      <th>pred</th>\n",
       "      <th>Actual</th>\n",
       "    </tr>\n",
       "  </thead>\n",
       "  <tbody>\n",
       "    <tr>\n",
       "      <th>259</th>\n",
       "      <td>0</td>\n",
       "      <td>0</td>\n",
       "    </tr>\n",
       "    <tr>\n",
       "      <th>280</th>\n",
       "      <td>0</td>\n",
       "      <td>0</td>\n",
       "    </tr>\n",
       "    <tr>\n",
       "      <th>302</th>\n",
       "      <td>0</td>\n",
       "      <td>0</td>\n",
       "    </tr>\n",
       "    <tr>\n",
       "      <th>107</th>\n",
       "      <td>1</td>\n",
       "      <td>1</td>\n",
       "    </tr>\n",
       "    <tr>\n",
       "      <th>143</th>\n",
       "      <td>1</td>\n",
       "      <td>1</td>\n",
       "    </tr>\n",
       "    <tr>\n",
       "      <th>...</th>\n",
       "      <td>...</td>\n",
       "      <td>...</td>\n",
       "    </tr>\n",
       "    <tr>\n",
       "      <th>12</th>\n",
       "      <td>0</td>\n",
       "      <td>0</td>\n",
       "    </tr>\n",
       "    <tr>\n",
       "      <th>151</th>\n",
       "      <td>1</td>\n",
       "      <td>1</td>\n",
       "    </tr>\n",
       "    <tr>\n",
       "      <th>275</th>\n",
       "      <td>0</td>\n",
       "      <td>0</td>\n",
       "    </tr>\n",
       "    <tr>\n",
       "      <th>119</th>\n",
       "      <td>1</td>\n",
       "      <td>1</td>\n",
       "    </tr>\n",
       "    <tr>\n",
       "      <th>88</th>\n",
       "      <td>0</td>\n",
       "      <td>0</td>\n",
       "    </tr>\n",
       "  </tbody>\n",
       "</table>\n",
       "<p>64 rows × 2 columns</p>\n",
       "</div>"
      ],
      "text/plain": [
       "     pred  Actual\n",
       "259     0       0\n",
       "280     0       0\n",
       "302     0       0\n",
       "107     1       1\n",
       "143     1       1\n",
       "..    ...     ...\n",
       "12      0       0\n",
       "151     1       1\n",
       "275     0       0\n",
       "119     1       1\n",
       "88      0       0\n",
       "\n",
       "[64 rows x 2 columns]"
      ]
     },
     "execution_count": 41,
     "metadata": {},
     "output_type": "execute_result"
    }
   ],
   "source": [
    "# CHecking actual data with clusters against predicted clusters\n",
    "\n",
    "pd.DataFrame({'pred': y_pred, 'Actual' : y_test})"
   ]
  },
  {
   "cell_type": "code",
   "execution_count": 42,
   "metadata": {
    "ExecuteTime": {
     "end_time": "2022-05-03T22:52:10.147258Z",
     "start_time": "2022-05-03T22:52:05.638668Z"
    }
   },
   "outputs": [
    {
     "name": "stdout",
     "output_type": "stream",
     "text": [
      "enter ALchohol and Character followed by comma \n",
      "13, 5\n"
     ]
    }
   ],
   "source": [
    "# Checking if any input of alcohol and character will result in correct cluster prediction\n",
    "\n",
    "userinput = input('enter ALchohol and Character followed by comma \\n')"
   ]
  },
  {
   "cell_type": "code",
   "execution_count": 43,
   "metadata": {
    "ExecuteTime": {
     "end_time": "2022-05-03T22:52:10.790525Z",
     "start_time": "2022-05-03T22:52:10.775268Z"
    }
   },
   "outputs": [],
   "source": [
    "userinput = userinput.split(',')\n",
    "alcohol = float(userinput[0])\n",
    "character = int(userinput[1])"
   ]
  },
  {
   "cell_type": "code",
   "execution_count": 44,
   "metadata": {
    "ExecuteTime": {
     "end_time": "2022-05-03T22:52:11.168199Z",
     "start_time": "2022-05-03T22:52:11.144333Z"
    }
   },
   "outputs": [],
   "source": [
    "newdf = pd.DataFrame({'Alcohol':[alcohol], 'Character': [character]})"
   ]
  },
  {
   "cell_type": "code",
   "execution_count": 45,
   "metadata": {
    "ExecuteTime": {
     "end_time": "2022-05-03T22:52:11.521083Z",
     "start_time": "2022-05-03T22:52:11.489774Z"
    }
   },
   "outputs": [
    {
     "data": {
      "text/html": [
       "<div>\n",
       "<style scoped>\n",
       "    .dataframe tbody tr th:only-of-type {\n",
       "        vertical-align: middle;\n",
       "    }\n",
       "\n",
       "    .dataframe tbody tr th {\n",
       "        vertical-align: top;\n",
       "    }\n",
       "\n",
       "    .dataframe thead th {\n",
       "        text-align: right;\n",
       "    }\n",
       "</style>\n",
       "<table border=\"1\" class=\"dataframe\">\n",
       "  <thead>\n",
       "    <tr style=\"text-align: right;\">\n",
       "      <th></th>\n",
       "      <th>Alcohol</th>\n",
       "      <th>Character</th>\n",
       "    </tr>\n",
       "  </thead>\n",
       "  <tbody>\n",
       "    <tr>\n",
       "      <th>0</th>\n",
       "      <td>13.0</td>\n",
       "      <td>5</td>\n",
       "    </tr>\n",
       "  </tbody>\n",
       "</table>\n",
       "</div>"
      ],
      "text/plain": [
       "   Alcohol  Character\n",
       "0     13.0          5"
      ]
     },
     "execution_count": 45,
     "metadata": {},
     "output_type": "execute_result"
    }
   ],
   "source": [
    "newdf"
   ]
  },
  {
   "cell_type": "code",
   "execution_count": 46,
   "metadata": {
    "ExecuteTime": {
     "end_time": "2022-05-03T22:52:15.866457Z",
     "start_time": "2022-05-03T22:52:15.841753Z"
    }
   },
   "outputs": [
    {
     "data": {
      "text/plain": [
       "array([1], dtype=int64)"
      ]
     },
     "execution_count": 46,
     "metadata": {},
     "output_type": "execute_result"
    }
   ],
   "source": [
    "# Getting the cluster number\n",
    "\n",
    "newdf_pred = knn.predict(newdf)\n",
    "newdf_pred"
   ]
  },
  {
   "cell_type": "markdown",
   "metadata": {},
   "source": [
    "## Final Implementation"
   ]
  },
  {
   "cell_type": "code",
   "execution_count": null,
   "metadata": {
    "ExecuteTime": {
     "start_time": "2022-05-05T23:40:47.508Z"
    }
   },
   "outputs": [],
   "source": [
    "userinput = input('Choose your sake by entering your favourite wine: \\n')"
   ]
  },
  {
   "cell_type": "code",
   "execution_count": 48,
   "metadata": {
    "ExecuteTime": {
     "end_time": "2022-05-03T22:52:20.670498Z",
     "start_time": "2022-05-03T22:52:20.638814Z"
    }
   },
   "outputs": [
    {
     "data": {
      "text/html": [
       "<div>\n",
       "<style scoped>\n",
       "    .dataframe tbody tr th:only-of-type {\n",
       "        vertical-align: middle;\n",
       "    }\n",
       "\n",
       "    .dataframe tbody tr th {\n",
       "        vertical-align: top;\n",
       "    }\n",
       "\n",
       "    .dataframe thead th {\n",
       "        text-align: right;\n",
       "    }\n",
       "</style>\n",
       "<table border=\"1\" class=\"dataframe\">\n",
       "  <thead>\n",
       "    <tr style=\"text-align: right;\">\n",
       "      <th></th>\n",
       "      <th>Name</th>\n",
       "      <th>Alcohol</th>\n",
       "      <th>Character</th>\n",
       "      <th>Class</th>\n",
       "      <th>Beverage</th>\n",
       "      <th>Clusters</th>\n",
       "    </tr>\n",
       "  </thead>\n",
       "  <tbody>\n",
       "    <tr>\n",
       "      <th>6</th>\n",
       "      <td>Royal Tokaji 'Gold Label' 6 Puttonyos 2016</td>\n",
       "      <td>11.0</td>\n",
       "      <td>8</td>\n",
       "      <td>Tokaji</td>\n",
       "      <td>1</td>\n",
       "      <td>1</td>\n",
       "    </tr>\n",
       "    <tr>\n",
       "      <th>7</th>\n",
       "      <td>Royal Tokaji Late Harvest 2017 50cl</td>\n",
       "      <td>11.5</td>\n",
       "      <td>8</td>\n",
       "      <td>Tokaji</td>\n",
       "      <td>1</td>\n",
       "      <td>1</td>\n",
       "    </tr>\n",
       "    <tr>\n",
       "      <th>55</th>\n",
       "      <td>Royal Tokaji 5 Puttonyos 2016 Hungary 50cl</td>\n",
       "      <td>11.5</td>\n",
       "      <td>8</td>\n",
       "      <td>Tokaji</td>\n",
       "      <td>1</td>\n",
       "      <td>1</td>\n",
       "    </tr>\n",
       "  </tbody>\n",
       "</table>\n",
       "</div>"
      ],
      "text/plain": [
       "                                          Name  Alcohol  Character   Class  \\\n",
       "6   Royal Tokaji 'Gold Label' 6 Puttonyos 2016     11.0          8  Tokaji   \n",
       "7          Royal Tokaji Late Harvest 2017 50cl     11.5          8  Tokaji   \n",
       "55  Royal Tokaji 5 Puttonyos 2016 Hungary 50cl     11.5          8  Tokaji   \n",
       "\n",
       "    Beverage  Clusters  \n",
       "6          1         1  \n",
       "7          1         1  \n",
       "55         1         1  "
      ]
     },
     "execution_count": 48,
     "metadata": {},
     "output_type": "execute_result"
    }
   ],
   "source": [
    "# Returns the data based on user input\n",
    "knn_data[knn_data['Class'] == 'Tokaji']"
   ]
  },
  {
   "cell_type": "code",
   "execution_count": 49,
   "metadata": {
    "ExecuteTime": {
     "end_time": "2022-05-03T22:52:20.912593Z",
     "start_time": "2022-05-03T22:52:20.896574Z"
    }
   },
   "outputs": [],
   "source": [
    "import math\n",
    "mean = []\n",
    "index = []\n",
    "lis = []\n",
    "\n",
    "#creating a list with data from the dataFrames clusters column\n",
    "cluster = knn_data[knn_data['Class'] == userinput]\n",
    "for i in cluster['Clusters']:\n",
    "    lis.append(i)\n",
    "\n",
    "\n",
    "def checkList(lst):\n",
    "    equal = 0\n",
    "    ele = lst[0]\n",
    "    chk = True\n",
    "      \n",
    "    # Comparing each element with first item \n",
    "    \n",
    "    for item in lst:\n",
    "        if ele != item:\n",
    "            chk = False\n",
    "            break;     \n",
    "    #If value is 1 then all clusters are equal\n",
    "    \n",
    "    if (chk == True):\n",
    "        sake = knn_data[knn_data['Beverage'] == 0]\n",
    "        sake = sake[sake['Clusters'] == lis[0]]\n",
    "        equal = 1\n",
    "        print(equal)\n",
    "        return sake\n",
    "    #If value is 0 then all clusters are not equal\n",
    "    \n",
    "    else:\n",
    "        print(equal) \n",
    "        alcohol = float(math.ceil(cluster['Alcohol'].mean())) #Rounds up the mean value\n",
    "        character = int(math.floor(cluster['Character'].mean())) #Rounds down the mean value\n",
    "        \n",
    "        #Predicting the Cluster\n",
    "        newdf = pd.DataFrame({'Alcohol':[alcohol], 'Character': [character]})\n",
    "        newdf_pred = knn.predict(newdf)\n",
    "        \n",
    "        sake = knn_data[knn_data['Beverage'] == 0]\n",
    "        sake = sake[sake['Clusters'] == newdf_pred[0]]\n",
    "        \n",
    "        print(alcohol, character)\n",
    "        \n",
    "        #Ordering the output based on the character and everything else falls after\n",
    "        for i in sake.Character:\n",
    "            if i == character:\n",
    "                index.append(i)\n",
    "            else:\n",
    "                index.append(0)\n",
    "        sake['Index'] = index\n",
    "        \n",
    "        return sake.sort_values(['Index'], ascending=False)\n"
   ]
  },
  {
   "cell_type": "code",
   "execution_count": 50,
   "metadata": {
    "ExecuteTime": {
     "end_time": "2022-05-03T22:52:22.382422Z",
     "start_time": "2022-05-03T22:52:22.350392Z"
    },
    "scrolled": true
   },
   "outputs": [
    {
     "name": "stdout",
     "output_type": "stream",
     "text": [
      "1\n"
     ]
    },
    {
     "data": {
      "text/html": [
       "<div>\n",
       "<style scoped>\n",
       "    .dataframe tbody tr th:only-of-type {\n",
       "        vertical-align: middle;\n",
       "    }\n",
       "\n",
       "    .dataframe tbody tr th {\n",
       "        vertical-align: top;\n",
       "    }\n",
       "\n",
       "    .dataframe thead th {\n",
       "        text-align: right;\n",
       "    }\n",
       "</style>\n",
       "<table border=\"1\" class=\"dataframe\">\n",
       "  <thead>\n",
       "    <tr style=\"text-align: right;\">\n",
       "      <th></th>\n",
       "      <th>Name</th>\n",
       "      <th>Alcohol</th>\n",
       "      <th>Character</th>\n",
       "      <th>Class</th>\n",
       "      <th>Beverage</th>\n",
       "      <th>Clusters</th>\n",
       "    </tr>\n",
       "  </thead>\n",
       "  <tbody>\n",
       "    <tr>\n",
       "      <th>305</th>\n",
       "      <td>Kuzuryu “Junmai”</td>\n",
       "      <td>14.5</td>\n",
       "      <td>4</td>\n",
       "      <td>Junmai</td>\n",
       "      <td>0</td>\n",
       "      <td>1</td>\n",
       "    </tr>\n",
       "    <tr>\n",
       "      <th>307</th>\n",
       "      <td>Miyasaka “Yawaraka Junmai”</td>\n",
       "      <td>12.0</td>\n",
       "      <td>6</td>\n",
       "      <td>Junmai</td>\n",
       "      <td>0</td>\n",
       "      <td>1</td>\n",
       "    </tr>\n",
       "  </tbody>\n",
       "</table>\n",
       "</div>"
      ],
      "text/plain": [
       "                           Name  Alcohol  Character   Class  Beverage  \\\n",
       "305            Kuzuryu “Junmai”     14.5          4  Junmai         0   \n",
       "307  Miyasaka “Yawaraka Junmai”     12.0          6  Junmai         0   \n",
       "\n",
       "     Clusters  \n",
       "305         1  \n",
       "307         1  "
      ]
     },
     "execution_count": 50,
     "metadata": {},
     "output_type": "execute_result"
    }
   ],
   "source": [
    "checkList(lis)"
   ]
  },
  {
   "cell_type": "code",
   "execution_count": null,
   "metadata": {},
   "outputs": [],
   "source": []
  }
 ],
 "metadata": {
  "kernelspec": {
   "display_name": "Python 3",
   "language": "python",
   "name": "python3"
  },
  "language_info": {
   "codemirror_mode": {
    "name": "ipython",
    "version": 3
   },
   "file_extension": ".py",
   "mimetype": "text/x-python",
   "name": "python",
   "nbconvert_exporter": "python",
   "pygments_lexer": "ipython3",
   "version": "3.8.5"
  },
  "toc": {
   "base_numbering": 1,
   "nav_menu": {},
   "number_sections": true,
   "sideBar": true,
   "skip_h1_title": false,
   "title_cell": "Table of Contents",
   "title_sidebar": "Contents",
   "toc_cell": false,
   "toc_position": {},
   "toc_section_display": true,
   "toc_window_display": false
  }
 },
 "nbformat": 4,
 "nbformat_minor": 4
}
